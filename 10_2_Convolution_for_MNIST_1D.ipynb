{
  "nbformat": 4,
  "nbformat_minor": 0,
  "metadata": {
    "colab": {
      "provenance": [],
      "include_colab_link": true
    },
    "kernelspec": {
      "name": "python3",
      "display_name": "Python 3"
    },
    "language_info": {
      "name": "python"
    }
  },
  "cells": [
    {
      "cell_type": "markdown",
      "metadata": {
        "id": "view-in-github",
        "colab_type": "text"
      },
      "source": [
        "<a href=\"https://colab.research.google.com/github/Web-Jose/CSCI-167/blob/main/10_2_Convolution_for_MNIST_1D.ipynb\" target=\"_parent\"><img src=\"https://colab.research.google.com/assets/colab-badge.svg\" alt=\"Open In Colab\"/></a>"
      ]
    },
    {
      "cell_type": "markdown",
      "source": [
        "# **Notebook 10.2: Convolution for MNIST-1D**\n",
        "\n",
        "This notebook investigates a 1D convolutional network for MNIST-1D as in figure 10.7 and 10.8a.\n",
        "\n",
        "Work through the cells below, running each cell in turn. In various places you will see the words \"TO DO\". Follow the instructions at these places and make predictions about what is going to happen or write code to complete the functions.\n",
        "\n",
        "Contact me at udlbookmail@gmail.com if you find any mistakes or have any suggestions.\n",
        "\n"
      ],
      "metadata": {
        "id": "t9vk9Elugvmi"
      }
    },
    {
      "cell_type": "code",
      "source": [
        "# Run this if you're in a Colab to install MNIST 1D repository\n",
        "!pip install git+https://github.com/greydanus/mnist1d"
      ],
      "metadata": {
        "id": "D5yLObtZCi9J",
        "colab": {
          "base_uri": "https://localhost:8080/"
        },
        "outputId": "fc12e205-fead-4ac2-ac58-2f0c37630451"
      },
      "execution_count": 1,
      "outputs": [
        {
          "output_type": "stream",
          "name": "stdout",
          "text": [
            "Collecting git+https://github.com/greydanus/mnist1d\n",
            "  Cloning https://github.com/greydanus/mnist1d to /tmp/pip-req-build-8i7uvy6u\n",
            "  Running command git clone --filter=blob:none --quiet https://github.com/greydanus/mnist1d /tmp/pip-req-build-8i7uvy6u\n",
            "  Resolved https://github.com/greydanus/mnist1d to commit 7878d96082abd200c546a07a4101fa90b30fdf7e\n",
            "  Installing build dependencies ... \u001b[?25l\u001b[?25hdone\n",
            "  Getting requirements to build wheel ... \u001b[?25l\u001b[?25hdone\n",
            "  Preparing metadata (pyproject.toml) ... \u001b[?25l\u001b[?25hdone\n",
            "Requirement already satisfied: requests in /usr/local/lib/python3.10/dist-packages (from mnist1d==0.0.2.post16) (2.32.3)\n",
            "Requirement already satisfied: numpy in /usr/local/lib/python3.10/dist-packages (from mnist1d==0.0.2.post16) (1.26.4)\n",
            "Requirement already satisfied: matplotlib in /usr/local/lib/python3.10/dist-packages (from mnist1d==0.0.2.post16) (3.7.1)\n",
            "Requirement already satisfied: scipy in /usr/local/lib/python3.10/dist-packages (from mnist1d==0.0.2.post16) (1.13.1)\n",
            "Requirement already satisfied: contourpy>=1.0.1 in /usr/local/lib/python3.10/dist-packages (from matplotlib->mnist1d==0.0.2.post16) (1.3.0)\n",
            "Requirement already satisfied: cycler>=0.10 in /usr/local/lib/python3.10/dist-packages (from matplotlib->mnist1d==0.0.2.post16) (0.12.1)\n",
            "Requirement already satisfied: fonttools>=4.22.0 in /usr/local/lib/python3.10/dist-packages (from matplotlib->mnist1d==0.0.2.post16) (4.54.1)\n",
            "Requirement already satisfied: kiwisolver>=1.0.1 in /usr/local/lib/python3.10/dist-packages (from matplotlib->mnist1d==0.0.2.post16) (1.4.7)\n",
            "Requirement already satisfied: packaging>=20.0 in /usr/local/lib/python3.10/dist-packages (from matplotlib->mnist1d==0.0.2.post16) (24.1)\n",
            "Requirement already satisfied: pillow>=6.2.0 in /usr/local/lib/python3.10/dist-packages (from matplotlib->mnist1d==0.0.2.post16) (10.4.0)\n",
            "Requirement already satisfied: pyparsing>=2.3.1 in /usr/local/lib/python3.10/dist-packages (from matplotlib->mnist1d==0.0.2.post16) (3.2.0)\n",
            "Requirement already satisfied: python-dateutil>=2.7 in /usr/local/lib/python3.10/dist-packages (from matplotlib->mnist1d==0.0.2.post16) (2.8.2)\n",
            "Requirement already satisfied: charset-normalizer<4,>=2 in /usr/local/lib/python3.10/dist-packages (from requests->mnist1d==0.0.2.post16) (3.4.0)\n",
            "Requirement already satisfied: idna<4,>=2.5 in /usr/local/lib/python3.10/dist-packages (from requests->mnist1d==0.0.2.post16) (3.10)\n",
            "Requirement already satisfied: urllib3<3,>=1.21.1 in /usr/local/lib/python3.10/dist-packages (from requests->mnist1d==0.0.2.post16) (2.2.3)\n",
            "Requirement already satisfied: certifi>=2017.4.17 in /usr/local/lib/python3.10/dist-packages (from requests->mnist1d==0.0.2.post16) (2024.8.30)\n",
            "Requirement already satisfied: six>=1.5 in /usr/local/lib/python3.10/dist-packages (from python-dateutil>=2.7->matplotlib->mnist1d==0.0.2.post16) (1.16.0)\n",
            "Building wheels for collected packages: mnist1d\n",
            "  Building wheel for mnist1d (pyproject.toml) ... \u001b[?25l\u001b[?25hdone\n",
            "  Created wheel for mnist1d: filename=mnist1d-0.0.2.post16-py3-none-any.whl size=14624 sha256=a64a699885b2384ae4a2b75b378a6ddc59373a083d4ae6746f1b35a437939ac1\n",
            "  Stored in directory: /tmp/pip-ephem-wheel-cache-r1sbi5zr/wheels/41/95/55/45fcf7d38cfa97e35682da6c5017d4513729131326ce935371\n",
            "Successfully built mnist1d\n",
            "Installing collected packages: mnist1d\n",
            "Successfully installed mnist1d-0.0.2.post16\n"
          ]
        }
      ]
    },
    {
      "cell_type": "code",
      "source": [
        "import numpy as np\n",
        "import os\n",
        "import torch, torch.nn as nn\n",
        "from torch.utils.data import TensorDataset, DataLoader\n",
        "from torch.optim.lr_scheduler import StepLR\n",
        "import matplotlib.pyplot as plt\n",
        "import mnist1d\n",
        "import random"
      ],
      "metadata": {
        "id": "YrXWAH7sUWvU"
      },
      "execution_count": 2,
      "outputs": []
    },
    {
      "cell_type": "code",
      "source": [
        "args = mnist1d.data.get_dataset_args()\n",
        "data = mnist1d.data.get_dataset(args, path='./mnist1d_data.pkl', download=False, regenerate=False)\n",
        "\n",
        "# The training and test input and outputs are in\n",
        "# data['x'], data['y'], data['x_test'], and data['y_test']\n",
        "print(\"Examples in training set: {}\".format(len(data['y'])))\n",
        "print(\"Examples in test set: {}\".format(len(data['y_test'])))\n",
        "print(\"Length of each example: {}\".format(data['x'].shape[-1]))"
      ],
      "metadata": {
        "id": "twI72ZCrCt5z",
        "colab": {
          "base_uri": "https://localhost:8080/"
        },
        "outputId": "f09d520e-6a5e-402c-867f-1ab3578c1d43"
      },
      "execution_count": 3,
      "outputs": [
        {
          "output_type": "stream",
          "name": "stdout",
          "text": [
            "Did or could not load data from ./mnist1d_data.pkl. Rebuilding dataset...\n",
            "Examples in training set: 4000\n",
            "Examples in test set: 1000\n",
            "Length of each example: 40\n"
          ]
        }
      ]
    },
    {
      "cell_type": "code",
      "source": [
        "# Load in the data\n",
        "train_data_x = data['x'].transpose()\n",
        "train_data_y = data['y']\n",
        "val_data_x = data['x_test'].transpose()\n",
        "val_data_y = data['y_test']\n",
        "# Print out sizes\n",
        "print(\"Train data: %d examples (columns), each of which has %d dimensions (rows)\"%((train_data_x.shape[1],train_data_x.shape[0])))\n",
        "print(\"Validation data: %d examples (columns), each of which has %d dimensions (rows)\"%((val_data_x.shape[1],val_data_x.shape[0])))"
      ],
      "metadata": {
        "id": "8bKADvLHbiV5",
        "colab": {
          "base_uri": "https://localhost:8080/"
        },
        "outputId": "622a487e-94b5-4940-bb8e-1e628de0a9e5"
      },
      "execution_count": 4,
      "outputs": [
        {
          "output_type": "stream",
          "name": "stdout",
          "text": [
            "Train data: 4000 examples (columns), each of which has 40 dimensions (rows)\n",
            "Validation data: 1000 examples (columns), each of which has 40 dimensions (rows)\n"
          ]
        }
      ]
    },
    {
      "cell_type": "markdown",
      "source": [
        "Define the network"
      ],
      "metadata": {
        "id": "_sFvRDGrl4qe"
      }
    },
    {
      "cell_type": "code",
      "source": [
        "# There are 40 input dimensions and 10 output dimensions for this data\n",
        "# The inputs correspond to the 40 offsets in the MNIST1D template.\n",
        "D_i = 40\n",
        "# The outputs correspond to the 10 digits\n",
        "D_o = 10\n",
        "\n",
        "\n",
        "# TODO Create a model with the following layers\n",
        "# 1. Convolutional layer, (input=length 40 and 1 channel, kernel size 3, stride 2, padding=\"valid\", 15 output channels )\n",
        "# 2. ReLU\n",
        "# 3. Convolutional layer, (input=length 19 and 15 channels, kernel size 3, stride 2, padding=\"valid\", 15 output channels )\n",
        "# 4. ReLU\n",
        "# 5. Convolutional layer, (input=length 9 and 15 channels, kernel size 3, stride 2, padding=\"valid\", 15 output channels)\n",
        "# 6. ReLU\n",
        "# 7. Flatten (converts 4x15) to length 60\n",
        "# 8. Linear layer (input size = 60, output size = 10)\n",
        "# References:\n",
        "# https://pytorch.org/docs/1.13/generated/torch.nn.Conv1d.html?highlight=conv1d#torch.nn.Conv1d\n",
        "# https://pytorch.org/docs/stable/generated/torch.nn.Flatten.html\n",
        "# https://pytorch.org/docs/1.13/generated/torch.nn.Linear.html?highlight=linear#torch.nn.Linear\n",
        "\n",
        "# NOTE THAT THE CONVOLUTIONAL LAYERS NEED TO TAKE THE NUMBER OF INPUT CHANNELS AS A PARAMETER\n",
        "# AND NOT THE INPUT SIZE.\n",
        "\n",
        "# Replace the following function:\n",
        "model = nn.Sequential(\n",
        "    nn.Conv1d(in_channels=1, out_channels=15, kernel_size=3, stride=2, padding=0),  # 1D conv layer, input channels=1, output channels=15\n",
        "    nn.ReLU(),\n",
        "    nn.Conv1d(in_channels=15, out_channels=15, kernel_size=3, stride=2, padding=0), # 1D conv layer, input channels=15, output channels=15\n",
        "    nn.ReLU(),\n",
        "    nn.Conv1d(in_channels=15, out_channels=15, kernel_size=3, stride=2, padding=0), # 1D conv layer, input channels=15, output channels=15\n",
        "    nn.ReLU(),\n",
        "    nn.Flatten(),\n",
        "    nn.Linear(4 * 15, 10)  # Fully connected layer, input size = 4 * 15 = 60, output size = 10\n",
        ")"
      ],
      "metadata": {
        "id": "FslroPJJffrh"
      },
      "execution_count": 5,
      "outputs": []
    },
    {
      "cell_type": "code",
      "source": [
        "# He initialization of weights\n",
        "def weights_init(layer_in):\n",
        "  if isinstance(layer_in, nn.Linear):\n",
        "    nn.init.kaiming_uniform_(layer_in.weight)\n",
        "    layer_in.bias.data.fill_(0.0)"
      ],
      "metadata": {
        "id": "YgLaex1pfhqz"
      },
      "execution_count": 6,
      "outputs": []
    },
    {
      "cell_type": "code",
      "source": [
        "# choose cross entropy loss function (equation 5.24 in the loss notes)\n",
        "loss_function = nn.CrossEntropyLoss()\n",
        "# construct SGD optimizer and initialize learning rate and momentum\n",
        "optimizer = torch.optim.SGD(model.parameters(), lr = 0.05, momentum=0.9)\n",
        "# object that decreases learning rate by half every 20 epochs\n",
        "scheduler = StepLR(optimizer, step_size=20, gamma=0.5)\n",
        "# create 100 dummy data points and store in data loader class\n",
        "x_train = torch.tensor(train_data_x.transpose().astype('float32'))\n",
        "y_train = torch.tensor(train_data_y.astype('long')).long()\n",
        "x_val= torch.tensor(val_data_x.transpose().astype('float32'))\n",
        "y_val = torch.tensor(val_data_y.astype('long')).long()\n",
        "\n",
        "# load the data into a class that creates the batches\n",
        "data_loader = DataLoader(TensorDataset(x_train,y_train), batch_size=100, shuffle=True, worker_init_fn=np.random.seed(1))\n",
        "\n",
        "# Initialize model weights\n",
        "model.apply(weights_init)\n",
        "\n",
        "# loop over the dataset n_epoch times\n",
        "n_epoch = 100\n",
        "# store the loss and the % correct at each epoch\n",
        "losses_train = np.zeros((n_epoch))\n",
        "errors_train = np.zeros((n_epoch))\n",
        "losses_val = np.zeros((n_epoch))\n",
        "errors_val = np.zeros((n_epoch))\n",
        "\n",
        "for epoch in range(n_epoch):\n",
        "  # loop over batches\n",
        "  for i, data in enumerate(data_loader):\n",
        "    # retrieve inputs and labels for this batch\n",
        "    x_batch, y_batch = data\n",
        "    # zero the parameter gradients\n",
        "    optimizer.zero_grad()\n",
        "    # forward pass -- calculate model output\n",
        "    pred = model(x_batch[:,None,:])\n",
        "    # compute the loss\n",
        "    loss = loss_function(pred, y_batch)\n",
        "    # backward pass\n",
        "    loss.backward()\n",
        "    # SGD update\n",
        "    optimizer.step()\n",
        "\n",
        "  # Run whole dataset to get statistics -- normally wouldn't do this\n",
        "  pred_train = model(x_train[:,None,:])\n",
        "  pred_val = model(x_val[:,None,:])\n",
        "  _, predicted_train_class = torch.max(pred_train.data, 1)\n",
        "  _, predicted_val_class = torch.max(pred_val.data, 1)\n",
        "  errors_train[epoch] = 100 - 100 * (predicted_train_class == y_train).float().sum() / len(y_train)\n",
        "  errors_val[epoch]= 100 - 100 * (predicted_val_class == y_val).float().sum() / len(y_val)\n",
        "  losses_train[epoch] = loss_function(pred_train, y_train).item()\n",
        "  losses_val[epoch]= loss_function(pred_val, y_val).item()\n",
        "  print(f'Epoch {epoch:5d}, train loss {losses_train[epoch]:.6f}, train error {errors_train[epoch]:3.2f},  val loss {losses_val[epoch]:.6f}, percent error {errors_val[epoch]:3.2f}')\n",
        "\n",
        "  # tell scheduler to consider updating learning rate\n",
        "  scheduler.step()\n",
        "\n",
        "# Plot the results\n",
        "fig, ax = plt.subplots()\n",
        "ax.plot(errors_train,'r-',label='train')\n",
        "ax.plot(errors_val,'b-',label='validation')\n",
        "ax.set_ylim(0,100); ax.set_xlim(0,n_epoch)\n",
        "ax.set_xlabel('Epoch'); ax.set_ylabel('Error')\n",
        "ax.set_title('Part I: Validation Result %3.2f'%(errors_val[-1]))\n",
        "ax.legend()\n",
        "plt.show()"
      ],
      "metadata": {
        "id": "NYw8I_3mmX5c",
        "colab": {
          "base_uri": "https://localhost:8080/",
          "height": 1000
        },
        "outputId": "ebe15e69-b9fd-47a1-e123-10c25f5e65c9"
      },
      "execution_count": 7,
      "outputs": [
        {
          "output_type": "stream",
          "name": "stdout",
          "text": [
            "Epoch     0, train loss 1.987676, train error 77.22,  val loss 1.996463, percent error 79.70\n",
            "Epoch     1, train loss 1.496836, train error 60.17,  val loss 1.501891, percent error 61.70\n",
            "Epoch     2, train loss 1.400151, train error 55.00,  val loss 1.414201, percent error 56.00\n",
            "Epoch     3, train loss 1.276114, train error 49.53,  val loss 1.279805, percent error 54.10\n",
            "Epoch     4, train loss 1.267486, train error 51.60,  val loss 1.284998, percent error 52.10\n",
            "Epoch     5, train loss 1.061380, train error 41.55,  val loss 1.075655, percent error 42.50\n",
            "Epoch     6, train loss 1.002397, train error 39.60,  val loss 1.053579, percent error 41.50\n",
            "Epoch     7, train loss 0.854821, train error 33.22,  val loss 0.885199, percent error 33.20\n",
            "Epoch     8, train loss 0.761602, train error 29.80,  val loss 0.804475, percent error 31.50\n",
            "Epoch     9, train loss 0.753608, train error 29.55,  val loss 0.803878, percent error 32.70\n",
            "Epoch    10, train loss 0.610107, train error 22.57,  val loss 0.673384, percent error 26.40\n",
            "Epoch    11, train loss 0.560670, train error 21.75,  val loss 0.635969, percent error 25.30\n",
            "Epoch    12, train loss 0.661448, train error 24.03,  val loss 0.763027, percent error 27.30\n",
            "Epoch    13, train loss 0.482618, train error 18.18,  val loss 0.554805, percent error 21.10\n",
            "Epoch    14, train loss 0.427727, train error 16.12,  val loss 0.535446, percent error 19.70\n",
            "Epoch    15, train loss 0.589880, train error 19.97,  val loss 0.706557, percent error 23.30\n",
            "Epoch    16, train loss 0.382498, train error 14.80,  val loss 0.505938, percent error 18.00\n",
            "Epoch    17, train loss 0.373181, train error 12.40,  val loss 0.502525, percent error 17.00\n",
            "Epoch    18, train loss 0.339703, train error 12.57,  val loss 0.509278, percent error 15.40\n",
            "Epoch    19, train loss 0.225779, train error 7.65,  val loss 0.372321, percent error 12.70\n",
            "Epoch    20, train loss 0.187939, train error 6.18,  val loss 0.353189, percent error 12.50\n",
            "Epoch    21, train loss 0.182853, train error 6.22,  val loss 0.343887, percent error 11.70\n",
            "Epoch    22, train loss 0.162848, train error 5.62,  val loss 0.339509, percent error 11.80\n",
            "Epoch    23, train loss 0.182510, train error 6.07,  val loss 0.341356, percent error 10.50\n",
            "Epoch    24, train loss 0.160258, train error 5.07,  val loss 0.342838, percent error 10.50\n",
            "Epoch    25, train loss 0.154309, train error 5.28,  val loss 0.337003, percent error 11.00\n",
            "Epoch    26, train loss 0.143982, train error 4.72,  val loss 0.321062, percent error 10.60\n",
            "Epoch    27, train loss 0.149170, train error 4.75,  val loss 0.354630, percent error 11.40\n",
            "Epoch    28, train loss 0.140552, train error 4.85,  val loss 0.360641, percent error 10.90\n",
            "Epoch    29, train loss 0.115175, train error 3.68,  val loss 0.333223, percent error 10.50\n",
            "Epoch    30, train loss 0.120974, train error 3.90,  val loss 0.320419, percent error 10.10\n",
            "Epoch    31, train loss 0.126313, train error 4.28,  val loss 0.333042, percent error 9.90\n",
            "Epoch    32, train loss 0.111031, train error 3.72,  val loss 0.327877, percent error 10.30\n",
            "Epoch    33, train loss 0.126501, train error 4.38,  val loss 0.381266, percent error 11.20\n",
            "Epoch    34, train loss 0.120799, train error 4.18,  val loss 0.364026, percent error 11.90\n",
            "Epoch    35, train loss 0.131324, train error 4.60,  val loss 0.345328, percent error 11.50\n",
            "Epoch    36, train loss 0.272511, train error 9.22,  val loss 0.554530, percent error 14.70\n",
            "Epoch    37, train loss 0.111346, train error 4.00,  val loss 0.351491, percent error 10.40\n",
            "Epoch    38, train loss 0.150142, train error 5.50,  val loss 0.382614, percent error 11.80\n",
            "Epoch    39, train loss 0.097558, train error 3.22,  val loss 0.345671, percent error 11.00\n",
            "Epoch    40, train loss 0.077701, train error 2.18,  val loss 0.353161, percent error 10.10\n",
            "Epoch    41, train loss 0.072598, train error 2.32,  val loss 0.346346, percent error 9.60\n",
            "Epoch    42, train loss 0.066590, train error 1.85,  val loss 0.324713, percent error 10.00\n",
            "Epoch    43, train loss 0.064586, train error 1.78,  val loss 0.322314, percent error 9.30\n",
            "Epoch    44, train loss 0.062760, train error 1.68,  val loss 0.342974, percent error 10.00\n",
            "Epoch    45, train loss 0.060433, train error 1.60,  val loss 0.338659, percent error 10.00\n",
            "Epoch    46, train loss 0.061359, train error 1.72,  val loss 0.318562, percent error 9.60\n",
            "Epoch    47, train loss 0.058106, train error 1.45,  val loss 0.350188, percent error 9.50\n",
            "Epoch    48, train loss 0.056046, train error 1.55,  val loss 0.344736, percent error 10.20\n",
            "Epoch    49, train loss 0.065218, train error 2.03,  val loss 0.333753, percent error 9.50\n",
            "Epoch    50, train loss 0.053637, train error 1.45,  val loss 0.334233, percent error 9.80\n",
            "Epoch    51, train loss 0.053470, train error 1.30,  val loss 0.330604, percent error 10.20\n",
            "Epoch    52, train loss 0.051854, train error 1.35,  val loss 0.354578, percent error 9.70\n",
            "Epoch    53, train loss 0.056723, train error 1.70,  val loss 0.360242, percent error 9.90\n",
            "Epoch    54, train loss 0.046723, train error 1.22,  val loss 0.362150, percent error 9.80\n",
            "Epoch    55, train loss 0.056664, train error 1.95,  val loss 0.406599, percent error 10.00\n",
            "Epoch    56, train loss 0.047095, train error 1.30,  val loss 0.370330, percent error 9.80\n",
            "Epoch    57, train loss 0.048729, train error 1.30,  val loss 0.393578, percent error 9.50\n",
            "Epoch    58, train loss 0.052152, train error 1.55,  val loss 0.342559, percent error 9.70\n",
            "Epoch    59, train loss 0.077503, train error 2.60,  val loss 0.380834, percent error 10.10\n",
            "Epoch    60, train loss 0.041698, train error 0.97,  val loss 0.359542, percent error 9.50\n",
            "Epoch    61, train loss 0.039285, train error 0.85,  val loss 0.371000, percent error 10.00\n",
            "Epoch    62, train loss 0.041244, train error 0.82,  val loss 0.379824, percent error 10.00\n",
            "Epoch    63, train loss 0.038056, train error 0.85,  val loss 0.367259, percent error 10.10\n",
            "Epoch    64, train loss 0.037852, train error 0.62,  val loss 0.373923, percent error 9.50\n",
            "Epoch    65, train loss 0.042816, train error 0.97,  val loss 0.389656, percent error 9.90\n",
            "Epoch    66, train loss 0.039151, train error 0.90,  val loss 0.364046, percent error 10.10\n",
            "Epoch    67, train loss 0.037043, train error 0.65,  val loss 0.374645, percent error 9.50\n",
            "Epoch    68, train loss 0.036122, train error 0.70,  val loss 0.365556, percent error 10.00\n",
            "Epoch    69, train loss 0.035152, train error 0.53,  val loss 0.382372, percent error 9.70\n",
            "Epoch    70, train loss 0.034767, train error 0.70,  val loss 0.380548, percent error 9.70\n",
            "Epoch    71, train loss 0.036700, train error 0.72,  val loss 0.378657, percent error 10.50\n",
            "Epoch    72, train loss 0.034759, train error 0.62,  val loss 0.381171, percent error 10.00\n",
            "Epoch    73, train loss 0.038250, train error 0.78,  val loss 0.378184, percent error 9.90\n",
            "Epoch    74, train loss 0.033912, train error 0.57,  val loss 0.393936, percent error 9.70\n",
            "Epoch    75, train loss 0.034353, train error 0.60,  val loss 0.389132, percent error 9.40\n",
            "Epoch    76, train loss 0.036097, train error 0.75,  val loss 0.392321, percent error 9.90\n",
            "Epoch    77, train loss 0.032131, train error 0.55,  val loss 0.379429, percent error 9.70\n",
            "Epoch    78, train loss 0.032668, train error 0.53,  val loss 0.389326, percent error 9.50\n",
            "Epoch    79, train loss 0.032152, train error 0.40,  val loss 0.381966, percent error 9.90\n",
            "Epoch    80, train loss 0.031084, train error 0.47,  val loss 0.384027, percent error 9.70\n",
            "Epoch    81, train loss 0.030320, train error 0.35,  val loss 0.387219, percent error 9.90\n",
            "Epoch    82, train loss 0.030650, train error 0.50,  val loss 0.382973, percent error 9.70\n",
            "Epoch    83, train loss 0.030630, train error 0.47,  val loss 0.384407, percent error 10.10\n",
            "Epoch    84, train loss 0.030026, train error 0.47,  val loss 0.388968, percent error 9.90\n",
            "Epoch    85, train loss 0.029897, train error 0.40,  val loss 0.387827, percent error 9.80\n",
            "Epoch    86, train loss 0.029472, train error 0.30,  val loss 0.392083, percent error 9.80\n",
            "Epoch    87, train loss 0.029350, train error 0.28,  val loss 0.393152, percent error 9.60\n",
            "Epoch    88, train loss 0.029147, train error 0.30,  val loss 0.390604, percent error 9.70\n",
            "Epoch    89, train loss 0.028960, train error 0.32,  val loss 0.392657, percent error 9.70\n",
            "Epoch    90, train loss 0.029854, train error 0.50,  val loss 0.386053, percent error 9.90\n",
            "Epoch    91, train loss 0.028601, train error 0.30,  val loss 0.394070, percent error 9.60\n",
            "Epoch    92, train loss 0.028602, train error 0.28,  val loss 0.396152, percent error 9.80\n",
            "Epoch    93, train loss 0.028327, train error 0.28,  val loss 0.394029, percent error 9.60\n",
            "Epoch    94, train loss 0.028294, train error 0.32,  val loss 0.396273, percent error 9.60\n",
            "Epoch    95, train loss 0.028243, train error 0.40,  val loss 0.394868, percent error 9.50\n",
            "Epoch    96, train loss 0.028399, train error 0.35,  val loss 0.406109, percent error 9.50\n",
            "Epoch    97, train loss 0.027616, train error 0.28,  val loss 0.397156, percent error 9.70\n",
            "Epoch    98, train loss 0.028804, train error 0.40,  val loss 0.410277, percent error 9.60\n",
            "Epoch    99, train loss 0.027488, train error 0.32,  val loss 0.399273, percent error 9.60\n"
          ]
        },
        {
          "output_type": "display_data",
          "data": {
            "text/plain": [
              "<Figure size 640x480 with 1 Axes>"
            ],
            "image/png": "[encoded data removed]"
          },
          "metadata": {}
        }
      ]
    }
  ]
}