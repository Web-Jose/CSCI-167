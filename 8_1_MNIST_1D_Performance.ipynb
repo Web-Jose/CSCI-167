{
  "cells": [
    {
      "cell_type": "markdown",
      "metadata": {
        "id": "view-in-github",
        "colab_type": "text"
      },
      "source": [
        "<a href=\"https://colab.research.google.com/github/Web-Jose/CSCI-167/blob/main/8_1_MNIST_1D_Performance.ipynb\" target=\"_parent\"><img src=\"https://colab.research.google.com/assets/colab-badge.svg\" alt=\"Open In Colab\"/></a>"
      ]
    },
    {
      "cell_type": "markdown",
      "metadata": {
        "id": "L6chybAVFJW2"
      },
      "source": [
        "# **Notebook 8.1: MNIST_1D_Performance**\n",
        "\n",
        "This notebook runs a simple neural network on the MNIST1D dataset as in figure 8.2a. It uses code from https://github.com/greydanus/mnist1d to generate the data.\n",
        "\n",
        "Work through the cells below, running each cell in turn. In various places you will see the words \"TO DO\". Follow the instructions at these places and make predictions about what is going to happen or write code to complete the functions.\n",
        "\n",
        "Contact me at udlbookmail@gmail.com if you find any mistakes or have any suggestions."
      ]
    },
    {
      "cell_type": "code",
      "execution_count": 11,
      "metadata": {
        "id": "ifVjS4cTOqKz",
        "colab": {
          "base_uri": "https://localhost:8080/"
        },
        "outputId": "0f3be3ac-6686-44b2-f14c-83a925ea752a"
      },
      "outputs": [
        {
          "output_type": "stream",
          "name": "stdout",
          "text": [
            "Collecting git+https://github.com/greydanus/mnist1d\n",
            "  Cloning https://github.com/greydanus/mnist1d to /tmp/pip-req-build-eeriyh69\n",
            "  Running command git clone --filter=blob:none --quiet https://github.com/greydanus/mnist1d /tmp/pip-req-build-eeriyh69\n",
            "  Resolved https://github.com/greydanus/mnist1d to commit 68cb6b2d1d3a956cc2e9035e5a9860b66e33d642\n",
            "  Installing build dependencies ... \u001b[?25l\u001b[?25hdone\n",
            "  Getting requirements to build wheel ... \u001b[?25l\u001b[?25hdone\n",
            "  Preparing metadata (pyproject.toml) ... \u001b[?25l\u001b[?25hdone\n",
            "Requirement already satisfied: requests in /usr/local/lib/python3.10/dist-packages (from mnist1d==0.0.2.post15) (2.32.3)\n",
            "Requirement already satisfied: numpy in /usr/local/lib/python3.10/dist-packages (from mnist1d==0.0.2.post15) (1.26.4)\n",
            "Requirement already satisfied: matplotlib in /usr/local/lib/python3.10/dist-packages (from mnist1d==0.0.2.post15) (3.7.1)\n",
            "Requirement already satisfied: scipy in /usr/local/lib/python3.10/dist-packages (from mnist1d==0.0.2.post15) (1.13.1)\n",
            "Requirement already satisfied: contourpy>=1.0.1 in /usr/local/lib/python3.10/dist-packages (from matplotlib->mnist1d==0.0.2.post15) (1.3.0)\n",
            "Requirement already satisfied: cycler>=0.10 in /usr/local/lib/python3.10/dist-packages (from matplotlib->mnist1d==0.0.2.post15) (0.12.1)\n",
            "Requirement already satisfied: fonttools>=4.22.0 in /usr/local/lib/python3.10/dist-packages (from matplotlib->mnist1d==0.0.2.post15) (4.54.1)\n",
            "Requirement already satisfied: kiwisolver>=1.0.1 in /usr/local/lib/python3.10/dist-packages (from matplotlib->mnist1d==0.0.2.post15) (1.4.7)\n",
            "Requirement already satisfied: packaging>=20.0 in /usr/local/lib/python3.10/dist-packages (from matplotlib->mnist1d==0.0.2.post15) (24.1)\n",
            "Requirement already satisfied: pillow>=6.2.0 in /usr/local/lib/python3.10/dist-packages (from matplotlib->mnist1d==0.0.2.post15) (10.4.0)\n",
            "Requirement already satisfied: pyparsing>=2.3.1 in /usr/local/lib/python3.10/dist-packages (from matplotlib->mnist1d==0.0.2.post15) (3.1.4)\n",
            "Requirement already satisfied: python-dateutil>=2.7 in /usr/local/lib/python3.10/dist-packages (from matplotlib->mnist1d==0.0.2.post15) (2.8.2)\n",
            "Requirement already satisfied: charset-normalizer<4,>=2 in /usr/local/lib/python3.10/dist-packages (from requests->mnist1d==0.0.2.post15) (3.3.2)\n",
            "Requirement already satisfied: idna<4,>=2.5 in /usr/local/lib/python3.10/dist-packages (from requests->mnist1d==0.0.2.post15) (3.10)\n",
            "Requirement already satisfied: urllib3<3,>=1.21.1 in /usr/local/lib/python3.10/dist-packages (from requests->mnist1d==0.0.2.post15) (2.2.3)\n",
            "Requirement already satisfied: certifi>=2017.4.17 in /usr/local/lib/python3.10/dist-packages (from requests->mnist1d==0.0.2.post15) (2024.8.30)\n",
            "Requirement already satisfied: six>=1.5 in /usr/local/lib/python3.10/dist-packages (from python-dateutil>=2.7->matplotlib->mnist1d==0.0.2.post15) (1.16.0)\n"
          ]
        }
      ],
      "source": [
        "# Run this if you're in a Colab to install MNIST 1D repository\n",
        "%pip install git+https://github.com/greydanus/mnist1d"
      ]
    },
    {
      "cell_type": "code",
      "execution_count": 12,
      "metadata": {
        "id": "qyE7G1StPIqO"
      },
      "outputs": [],
      "source": [
        "import torch, torch.nn as nn\n",
        "from torch.utils.data import TensorDataset, DataLoader\n",
        "from torch.optim.lr_scheduler import StepLR\n",
        "import numpy as np\n",
        "import matplotlib.pyplot as plt\n",
        "import mnist1d"
      ]
    },
    {
      "cell_type": "markdown",
      "metadata": {
        "id": "F7LNq72SP6jO"
      },
      "source": [
        "Let's generate a training and test dataset using the MNIST1D code.  The dataset gets saved as a .pkl file so it doesn't have to be regenerated each time."
      ]
    },
    {
      "cell_type": "code",
      "execution_count": 13,
      "metadata": {
        "id": "YLxf7dJfPaqw",
        "colab": {
          "base_uri": "https://localhost:8080/"
        },
        "outputId": "a210c0fb-ee24-466f-c24b-8a5c4df97bb6"
      },
      "outputs": [
        {
          "output_type": "stream",
          "name": "stdout",
          "text": [
            "Successfully loaded data from ./mnist1d_data.pkl\n",
            "Examples in training set: 4000\n",
            "Examples in test set: 1000\n",
            "Length of each example: 40\n"
          ]
        }
      ],
      "source": [
        "args = mnist1d.data.get_dataset_args()\n",
        "data = mnist1d.data.get_dataset(args, path='./mnist1d_data.pkl', download=False, regenerate=False)\n",
        "\n",
        "# The training and test input and outputs are in\n",
        "# data['x'], data['y'], data['x_test'], and data['y_test']\n",
        "print(\"Examples in training set: {}\".format(len(data['y'])))\n",
        "print(\"Examples in test set: {}\".format(len(data['y_test'])))\n",
        "print(\"Length of each example: {}\".format(data['x'].shape[-1]))"
      ]
    },
    {
      "cell_type": "code",
      "execution_count": 14,
      "metadata": {
        "id": "FxaB5vc0uevl",
        "colab": {
          "base_uri": "https://localhost:8080/"
        },
        "outputId": "5347cb77-47a7-4a02-c386-2623c1f86fdd"
      },
      "outputs": [
        {
          "output_type": "stream",
          "name": "stdout",
          "text": [
            "Initializing layer\n",
            "Initializing layer\n",
            "Initializing layer\n",
            "Initializing layer\n",
            "Initializing layer\n",
            "Initializing layer\n",
            "Initializing layer\n",
            "Initializing layer\n"
          ]
        },
        {
          "output_type": "execute_result",
          "data": {
            "text/plain": [
              "Sequential(\n",
              "  (0): Linear(in_features=40, out_features=150, bias=True)\n",
              "  (1): ReLU()\n",
              "  (2): Linear(in_features=150, out_features=150, bias=True)\n",
              "  (3): ReLU()\n",
              "  (4): Linear(in_features=150, out_features=150, bias=True)\n",
              "  (5): ReLU()\n",
              "  (6): Linear(in_features=150, out_features=10, bias=True)\n",
              ")"
            ]
          },
          "metadata": {},
          "execution_count": 14
        }
      ],
      "source": [
        "D_i = 40    # Input dimensions\n",
        "D_k = 150   # Hidden dimensions\n",
        "D_o = 10    # Output dimensions\n",
        "# TO DO:\n",
        "# Define a model with two hidden layers of size 100\n",
        "# And ReLU activations between them\n",
        "# Replace this line (see Figure 7.8 of book for help):\n",
        "model = torch.nn.Sequential(\n",
        "    torch.nn.Linear(D_i, D_k),\n",
        "    torch.nn.ReLU(),\n",
        "    torch.nn.Linear(D_k, D_k),\n",
        "    torch.nn.ReLU(),\n",
        "    torch.nn.Linear(D_k, D_k),\n",
        "    torch.nn.ReLU(),\n",
        "    torch.nn.Linear(D_k, D_o)\n",
        ")\n",
        "\n",
        "\n",
        "def weights_init(layer_in):\n",
        "  # TO DO:\n",
        "  # Initialize the parameters with He initialization\n",
        "  # Replace this line (see figure 7.8 of book for help)\n",
        "  print(\"Initializing layer\")\n",
        "  if isinstance(layer_in, nn.Linear):\n",
        "        torch.nn.init.kaiming_normal_(layer_in.weight)\n",
        "        if layer_in.bias is not None:\n",
        "            torch.nn.init.zeros_(layer_in.bias)\n",
        "\n",
        "\n",
        "# Call the function you just defined\n",
        "model.apply(weights_init)\n"
      ]
    },
    {
      "cell_type": "code",
      "execution_count": 15,
      "metadata": {
        "id": "_rX6N3VyyQTY",
        "colab": {
          "base_uri": "https://localhost:8080/"
        },
        "outputId": "8422e384-87a2-481c-8cff-7b74649f205c"
      },
      "outputs": [
        {
          "output_type": "stream",
          "name": "stdout",
          "text": [
            "Initializing layer\n",
            "Initializing layer\n",
            "Initializing layer\n",
            "Initializing layer\n",
            "Initializing layer\n",
            "Initializing layer\n",
            "Initializing layer\n",
            "Initializing layer\n",
            "Epoch     0, train loss 1.571707, train error 61.20,  test loss 1.673801, test error 66.80\n",
            "Epoch     1, train loss 1.300452, train error 48.05,  test loss 1.494791, test error 57.50\n",
            "Epoch     2, train loss 1.112828, train error 41.92,  test loss 1.376222, test error 55.40\n",
            "Epoch     3, train loss 0.910914, train error 32.20,  test loss 1.245322, test error 49.20\n",
            "Epoch     4, train loss 0.752895, train error 24.72,  test loss 1.201241, test error 46.30\n",
            "Epoch     5, train loss 0.656544, train error 21.93,  test loss 1.181120, test error 44.90\n",
            "Epoch     6, train loss 0.552351, train error 17.55,  test loss 1.120867, test error 42.90\n",
            "Epoch     7, train loss 0.473047, train error 15.20,  test loss 1.195309, test error 42.90\n",
            "Epoch     8, train loss 0.390397, train error 11.45,  test loss 1.242995, test error 42.90\n",
            "Epoch     9, train loss 0.287201, train error 6.82,  test loss 1.148081, test error 38.70\n",
            "Epoch    10, train loss 0.209057, train error 4.03,  test loss 1.145558, test error 37.80\n",
            "Epoch    11, train loss 0.177369, train error 2.88,  test loss 1.184495, test error 39.70\n",
            "Epoch    12, train loss 0.146855, train error 1.72,  test loss 1.195348, test error 38.50\n",
            "Epoch    13, train loss 0.134957, train error 1.95,  test loss 1.260405, test error 38.20\n",
            "Epoch    14, train loss 0.096750, train error 0.47,  test loss 1.222561, test error 38.40\n",
            "Epoch    15, train loss 0.086877, train error 0.38,  test loss 1.274618, test error 37.40\n",
            "Epoch    16, train loss 0.075424, train error 0.40,  test loss 1.309244, test error 36.80\n",
            "Epoch    17, train loss 0.065337, train error 0.18,  test loss 1.350208, test error 38.00\n",
            "Epoch    18, train loss 0.052967, train error 0.05,  test loss 1.351237, test error 37.70\n",
            "Epoch    19, train loss 0.045494, train error 0.03,  test loss 1.364673, test error 36.60\n",
            "Epoch    20, train loss 0.040007, train error 0.00,  test loss 1.372043, test error 36.70\n",
            "Epoch    21, train loss 0.037739, train error 0.00,  test loss 1.385476, test error 37.10\n",
            "Epoch    22, train loss 0.035453, train error 0.00,  test loss 1.395993, test error 37.30\n",
            "Epoch    23, train loss 0.033566, train error 0.00,  test loss 1.412795, test error 37.10\n",
            "Epoch    24, train loss 0.031796, train error 0.00,  test loss 1.423885, test error 37.20\n",
            "Epoch    25, train loss 0.030333, train error 0.00,  test loss 1.428319, test error 36.90\n",
            "Epoch    26, train loss 0.028617, train error 0.00,  test loss 1.441412, test error 37.30\n",
            "Epoch    27, train loss 0.027212, train error 0.00,  test loss 1.453802, test error 37.60\n",
            "Epoch    28, train loss 0.026091, train error 0.00,  test loss 1.466363, test error 37.30\n",
            "Epoch    29, train loss 0.025173, train error 0.00,  test loss 1.478358, test error 36.80\n",
            "Epoch    30, train loss 0.024217, train error 0.00,  test loss 1.475997, test error 37.40\n",
            "Epoch    31, train loss 0.023698, train error 0.00,  test loss 1.482919, test error 37.30\n",
            "Epoch    32, train loss 0.023204, train error 0.00,  test loss 1.487061, test error 37.60\n",
            "Epoch    33, train loss 0.022707, train error 0.00,  test loss 1.491789, test error 37.10\n",
            "Epoch    34, train loss 0.022247, train error 0.00,  test loss 1.496247, test error 37.50\n",
            "Epoch    35, train loss 0.021788, train error 0.00,  test loss 1.499018, test error 37.30\n",
            "Epoch    36, train loss 0.021375, train error 0.00,  test loss 1.503022, test error 37.60\n",
            "Epoch    37, train loss 0.020986, train error 0.00,  test loss 1.507378, test error 36.90\n",
            "Epoch    38, train loss 0.020615, train error 0.00,  test loss 1.511669, test error 37.40\n",
            "Epoch    39, train loss 0.020183, train error 0.00,  test loss 1.515362, test error 37.20\n",
            "Epoch    40, train loss 0.019959, train error 0.00,  test loss 1.517707, test error 37.10\n",
            "Epoch    41, train loss 0.019776, train error 0.00,  test loss 1.519833, test error 37.20\n",
            "Epoch    42, train loss 0.019584, train error 0.00,  test loss 1.521232, test error 37.40\n",
            "Epoch    43, train loss 0.019407, train error 0.00,  test loss 1.523776, test error 37.20\n",
            "Epoch    44, train loss 0.019232, train error 0.00,  test loss 1.525123, test error 37.40\n",
            "Epoch    45, train loss 0.019062, train error 0.00,  test loss 1.528121, test error 37.10\n",
            "Epoch    46, train loss 0.018893, train error 0.00,  test loss 1.529607, test error 37.20\n",
            "Epoch    47, train loss 0.018738, train error 0.00,  test loss 1.532944, test error 36.90\n",
            "Epoch    48, train loss 0.018575, train error 0.00,  test loss 1.533652, test error 37.40\n",
            "Epoch    49, train loss 0.018403, train error 0.00,  test loss 1.535300, test error 37.10\n",
            "Epoch    50, train loss 0.018313, train error 0.00,  test loss 1.536911, test error 37.20\n",
            "Epoch    51, train loss 0.018235, train error 0.00,  test loss 1.536938, test error 37.30\n",
            "Epoch    52, train loss 0.018157, train error 0.00,  test loss 1.538069, test error 37.30\n",
            "Epoch    53, train loss 0.018078, train error 0.00,  test loss 1.539960, test error 37.30\n",
            "Epoch    54, train loss 0.017999, train error 0.00,  test loss 1.539915, test error 37.10\n",
            "Epoch    55, train loss 0.017921, train error 0.00,  test loss 1.541034, test error 37.10\n",
            "Epoch    56, train loss 0.017847, train error 0.00,  test loss 1.541946, test error 37.30\n",
            "Epoch    57, train loss 0.017770, train error 0.00,  test loss 1.542950, test error 37.10\n",
            "Epoch    58, train loss 0.017694, train error 0.00,  test loss 1.544056, test error 37.30\n",
            "Epoch    59, train loss 0.017620, train error 0.00,  test loss 1.545544, test error 37.10\n",
            "Epoch    60, train loss 0.017582, train error 0.00,  test loss 1.545977, test error 37.20\n",
            "Epoch    61, train loss 0.017544, train error 0.00,  test loss 1.545985, test error 37.10\n",
            "Epoch    62, train loss 0.017508, train error 0.00,  test loss 1.546414, test error 37.10\n",
            "Epoch    63, train loss 0.017470, train error 0.00,  test loss 1.547007, test error 37.20\n",
            "Epoch    64, train loss 0.017434, train error 0.00,  test loss 1.547524, test error 37.20\n",
            "Epoch    65, train loss 0.017398, train error 0.00,  test loss 1.547945, test error 37.10\n",
            "Epoch    66, train loss 0.017362, train error 0.00,  test loss 1.548184, test error 37.20\n",
            "Epoch    67, train loss 0.017325, train error 0.00,  test loss 1.548966, test error 37.20\n",
            "Epoch    68, train loss 0.017290, train error 0.00,  test loss 1.549320, test error 37.10\n",
            "Epoch    69, train loss 0.017254, train error 0.00,  test loss 1.549662, test error 37.10\n",
            "Epoch    70, train loss 0.017235, train error 0.00,  test loss 1.549932, test error 37.10\n",
            "Epoch    71, train loss 0.017217, train error 0.00,  test loss 1.550145, test error 37.10\n",
            "Epoch    72, train loss 0.017199, train error 0.00,  test loss 1.550327, test error 37.10\n",
            "Epoch    73, train loss 0.017182, train error 0.00,  test loss 1.550639, test error 37.20\n",
            "Epoch    74, train loss 0.017164, train error 0.00,  test loss 1.550847, test error 37.20\n"
          ]
        }
      ],
      "source": [
        "# choose cross entropy loss function (equation 5.24)\n",
        "loss_function = torch.nn.CrossEntropyLoss()\n",
        "# construct SGD optimizer and initialize learning rate and momentum\n",
        "optimizer = torch.optim.SGD(model.parameters(), lr = 0.03, momentum=0.9)\n",
        "# object that decreases learning rate by half every 10 epochs\n",
        "scheduler = StepLR(optimizer, step_size=10, gamma=0.5)\n",
        "x_train = torch.tensor(data['x'].astype('float32'))\n",
        "y_train = torch.tensor(data['y'].transpose().astype('int64'))\n",
        "x_test= torch.tensor(data['x_test'].astype('float32'))\n",
        "y_test = torch.tensor(data['y_test'].astype('int64'))\n",
        "\n",
        "# load the data into a class that creates the batches\n",
        "data_loader = DataLoader(TensorDataset(x_train,y_train), batch_size=100, shuffle=True, worker_init_fn=np.random.seed(1))\n",
        "\n",
        "# Initialize model weights\n",
        "model.apply(weights_init)\n",
        "\n",
        "# loop over the dataset n_epoch times\n",
        "n_epoch = 75\n",
        "# store the loss and the % correct at each epoch\n",
        "losses_train = np.zeros((n_epoch))\n",
        "errors_train = np.zeros((n_epoch))\n",
        "losses_test = np.zeros((n_epoch))\n",
        "errors_test = np.zeros((n_epoch))\n",
        "\n",
        "for epoch in range(n_epoch):\n",
        "  # loop over batches\n",
        "  for i, batch in enumerate(data_loader):\n",
        "    # retrieve inputs and labels for this batch\n",
        "    x_batch, y_batch = batch\n",
        "    # zero the parameter gradients\n",
        "    optimizer.zero_grad()\n",
        "    # forward pass -- calculate model output\n",
        "    pred = model(x_batch)\n",
        "    # compute the loss\n",
        "    loss = loss_function(pred, y_batch)\n",
        "    # backward pass\n",
        "    loss.backward()\n",
        "    # SGD update\n",
        "    optimizer.step()\n",
        "\n",
        "  # Run whole dataset to get statistics -- normally wouldn't do this\n",
        "  pred_train = model(x_train)\n",
        "  pred_test = model(x_test)\n",
        "  _, predicted_train_class = torch.max(pred_train.data, 1)\n",
        "  _, predicted_test_class = torch.max(pred_test.data, 1)\n",
        "  errors_train[epoch] = 100 - 100 * (predicted_train_class == y_train).float().sum() / len(y_train)\n",
        "  errors_test[epoch]= 100 - 100 * (predicted_test_class == y_test).float().sum() / len(y_test)\n",
        "  losses_train[epoch] = loss_function(pred_train, y_train).item()\n",
        "  losses_test[epoch]= loss_function(pred_test, y_test).item()\n",
        "  print(f'Epoch {epoch:5d}, train loss {losses_train[epoch]:.6f}, train error {errors_train[epoch]:3.2f},  test loss {losses_test[epoch]:.6f}, test error {errors_test[epoch]:3.2f}')\n",
        "\n",
        "  # tell scheduler to consider updating learning rate\n",
        "  scheduler.step()"
      ]
    },
    {
      "cell_type": "code",
      "execution_count": 16,
      "metadata": {
        "id": "yI-l6kA_EH9G",
        "colab": {
          "base_uri": "https://localhost:8080/",
          "height": 927
        },
        "outputId": "aa19c1fa-9f7a-486f-97b3-ce5c047ab635"
      },
      "outputs": [
        {
          "output_type": "display_data",
          "data": {
            "text/plain": [
              "<Figure size 640x480 with 1 Axes>"
            ],
            "image/png": "[encoded data removed]"
          },
          "metadata": {}
        },
        {
          "output_type": "display_data",
          "data": {
            "text/plain": [
              "<Figure size 640x480 with 1 Axes>"
            ],
            "image/png": "[encoded data removed]"
          },
          "metadata": {}
        }
      ],
      "source": [
        "# Plot the results\n",
        "fig, ax = plt.subplots()\n",
        "ax.plot(errors_train,'r-',label='train')\n",
        "ax.plot(errors_test,'b-',label='test')\n",
        "ax.set_ylim(0,100); ax.set_xlim(0,n_epoch)\n",
        "ax.set_xlabel('Epoch'); ax.set_ylabel('Error')\n",
        "ax.set_title('TrainError %3.2f, Test Error %3.2f'%(errors_train[-1],errors_test[-1]))\n",
        "ax.legend()\n",
        "plt.show()\n",
        "\n",
        "# Plot the results\n",
        "fig, ax = plt.subplots()\n",
        "ax.plot(losses_train,'r-',label='train')\n",
        "ax.plot(losses_test,'b-',label='test')\n",
        "ax.set_xlim(0,n_epoch)\n",
        "ax.set_xlabel('Epoch'); ax.set_ylabel('Loss')\n",
        "ax.set_title('Train loss %3.2f, Test loss %3.2f'%(losses_train[-1],losses_test[-1]))\n",
        "ax.legend()\n",
        "plt.show()"
      ]
    },
    {
      "cell_type": "markdown",
      "metadata": {
        "id": "q-yT6re6GZS4"
      },
      "source": [
        "**TO DO**\n",
        "\n",
        "Play with the model -- try changing the number of layers, hidden units, learning rate, batch size, momentum or anything else you like.  See if you can improve the test results.\n",
        "\n",
        "Is it a good idea to optimize the hyperparameters in this way?  Will the final result be a good estimate of the true test performance?"
      ]
    },
    {
      "cell_type": "markdown",
      "source": [
        "> I increased the complexity of my model by adding an additional hidden layer, increasing the hidden dimension size, and reducing the learning rate to make training more gradual. These adjustments allowed the model to fit the training data almost perfectly, achieving a 0.00% training error and a very low training loss. However, the test error remained high at 37.20%, and the test loss stabilized around 1.55, indicating that my model was overfitting to the training data. The added complexity improved the model's capacity to memorize the training examples but negatively impacted its ability to generalize to new data. To address this overfitting, I could consider techniques like dropout, weight regularization, or introducing a validation set for early stopping to improve the models generalization on the test set."
      ],
      "metadata": {
        "id": "8bTxBe22IoH5"
      }
    }
  ],
  "metadata": {
    "accelerator": "GPU",
    "colab": {
      "gpuType": "T4",
      "provenance": [],
      "include_colab_link": true
    },
    "kernelspec": {
      "display_name": "Python 3",
      "name": "python3"
    },
    "language_info": {
      "name": "python"
    }
  },
  "nbformat": 4,
  "nbformat_minor": 0
}