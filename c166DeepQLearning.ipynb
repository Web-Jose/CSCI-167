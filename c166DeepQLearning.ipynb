{
  "cells": [
    {
      "cell_type": "markdown",
      "metadata": {
        "id": "view-in-github",
        "colab_type": "text"
      },
      "source": [
        "<a href=\"https://colab.research.google.com/github/Web-Jose/CSCI-167/blob/main/c166DeepQLearning.ipynb\" target=\"_parent\"><img src=\"https://colab.research.google.com/assets/colab-badge.svg\" alt=\"Open In Colab\"/></a>"
      ]
    },
    {
      "cell_type": "code",
      "execution_count": 4,
      "metadata": {
        "colab": {
          "base_uri": "https://localhost:8080/"
        },
        "id": "OJQUvyAlEC42",
        "outputId": "66359c7f-439e-41bd-92a9-0abcb3e7e60d"
      },
      "outputs": [
        {
          "output_type": "stream",
          "name": "stdout",
          "text": [
            "Requirement already satisfied: gymnasium in /usr/local/lib/python3.10/dist-packages (0.29.1)\n",
            "Requirement already satisfied: numpy>=1.21.0 in /usr/local/lib/python3.10/dist-packages (from gymnasium) (1.26.4)\n",
            "Requirement already satisfied: cloudpickle>=1.2.0 in /usr/local/lib/python3.10/dist-packages (from gymnasium) (2.2.1)\n",
            "Requirement already satisfied: typing-extensions>=4.3.0 in /usr/local/lib/python3.10/dist-packages (from gymnasium) (4.12.2)\n",
            "Requirement already satisfied: farama-notifications>=0.0.1 in /usr/local/lib/python3.10/dist-packages (from gymnasium) (0.0.4)\n"
          ]
        }
      ],
      "source": [
        "!pip install gymnasium"
      ]
    },
    {
      "cell_type": "code",
      "execution_count": 5,
      "metadata": {
        "colab": {
          "base_uri": "https://localhost:8080/"
        },
        "id": "lGN-Jy0lD2g9",
        "outputId": "0a620711-178b-4a83-9df9-f7ceed7ef4c3"
      },
      "outputs": [
        {
          "output_type": "stream",
          "name": "stdout",
          "text": [
            "Num GPUs Available:  0\n",
            "Num CPUs Available:  1\n"
          ]
        }
      ],
      "source": [
        "import random, time\n",
        "from collections import deque, namedtuple\n",
        "\n",
        "import gymnasium as gym\n",
        "import numpy as np\n",
        "import tensorflow as tf\n",
        "print(\"Num GPUs Available: \", len(tf.config.list_physical_devices('GPU')))\n",
        "print(\"Num CPUs Available: \", len(tf.config.list_physical_devices('CPU')))\n",
        "\n",
        "from tqdm.auto import tqdm\n",
        "\n",
        "n_episodes = 1000  # play 1000 games\n",
        "eps = 1.0  # exploration rate, probability of choosing random action\n",
        "eps_decay = 0.9975  # eps gets multiplied by this number each epoch...\n",
        "min_eps = 0.1  # ...until this minimum eps is reached\n",
        "gamma = 0.95  # discount\n",
        "max_memory_size = 10000  # size of the replay memory\n",
        "batch_size = 32  # batch size of the neural network training\n",
        "min_length = 160  # minimum length of the replay memory for training, before it reached this length, no gradient updates happen\n",
        "memory_parts = [\n",
        "    \"state\",\n",
        "    \"action\",\n",
        "    \"next_state\",\n",
        "    \"reward\",\n",
        "    \"done\",\n",
        "]  # nice names for the part of replay memory, otherweise the names are 0-5"
      ]
    },
    {
      "cell_type": "code",
      "execution_count": 6,
      "metadata": {
        "colab": {
          "base_uri": "https://localhost:8080/"
        },
        "id": "xJjoVUSFZ3Yp",
        "outputId": "99913418-73e1-437d-fc04-65c626f79743"
      },
      "outputs": [
        {
          "output_type": "stream",
          "name": "stdout",
          "text": [
            "Mounted at /content/drive\n"
          ]
        }
      ],
      "source": [
        "from google.colab import drive\n",
        "drive.mount('/content/drive')"
      ]
    },
    {
      "cell_type": "markdown",
      "source": [
        "# Learning A Model"
      ],
      "metadata": {
        "id": "3RZqb4JV7Ag2"
      }
    },
    {
      "cell_type": "code",
      "execution_count": 7,
      "metadata": {
        "id": "hERWxJ3jEMMH"
      },
      "outputs": [],
      "source": [
        "Memory = namedtuple(\"Memory\", memory_parts)  # a single entry of the memory replay\n",
        "\n",
        "\n",
        "class ReplayMemory:\n",
        "    def __init__(self, max_length=None):\n",
        "        self.max_length = max_length\n",
        "        self.memory = deque(maxlen=max_length)\n",
        "\n",
        "    def store(self, data):\n",
        "        self.memory.append(data)\n",
        "\n",
        "    def _sample(self, k):\n",
        "        return random.sample(self.memory, k)\n",
        "\n",
        "    def structured_sample(self, k):\n",
        "        batch = self._sample(k)\n",
        "        result = {}\n",
        "        for i, part in enumerate(memory_parts):\n",
        "            result[part] = np.array([row[i] for row in batch])\n",
        "\n",
        "        return result\n",
        "\n",
        "    def __len__(self):\n",
        "        return len(self.memory)"
      ]
    },
    {
      "cell_type": "code",
      "execution_count": 8,
      "metadata": {
        "id": "AWYz3_bUETMT"
      },
      "outputs": [],
      "source": [
        "model = tf.keras.Sequential(\n",
        "    [\n",
        "        tf.keras.layers.Input(shape=(4,)),  # Define input shape with Input layer\n",
        "        tf.keras.layers.Dense(128, activation=\"relu\"),\n",
        "        tf.keras.layers.Dense(64, activation=\"relu\"),\n",
        "        tf.keras.layers.Dense(16, activation=\"relu\"),\n",
        "        tf.keras.layers.Dense(2, activation=\"linear\"),  # 2 actions: go left or go right\n",
        "    ]\n",
        ")\n",
        "model.compile(\n",
        "    loss=tf.keras.losses.MeanSquaredError(),\n",
        "    optimizer=tf.keras.optimizers.Adam(learning_rate=0.01),\n",
        ")"
      ]
    },
    {
      "cell_type": "code",
      "execution_count": null,
      "metadata": {
        "colab": {
          "base_uri": "https://localhost:8080/",
          "height": 84,
          "referenced_widgets": [
            "7c3500d980ed4eb9bd9356cc5d831bba",
            "3d8f480a643541fcb1b66e47cc9d4203",
            "971a567c0184429391c4613c3136719b",
            "399b2e93e3e049f3a245fec033c36769",
            "aa3bcf8fce6842c48dda97d7d94fd703",
            "38ffca3b7a7a4cfeb4596e80fa37be68",
            "61e645b4059b4165851dca52907a8817",
            "040838a5a21f411b980b56b961197a48",
            "93676a8a7a404c62802bfcf8cad15acc",
            "a317b6a2ac8c4498b9d5cfdcc552c0d3",
            "9cbce645fcb543669fe21e55ea9cc2d5"
          ]
        },
        "id": "A3tUkXVAEzOI",
        "outputId": "b6da909a-a3b6-41e7-ca80-68ef23fd4e44"
      },
      "outputs": [
        {
          "output_type": "display_data",
          "data": {
            "text/plain": [
              "  0%|          | 0/1000 [00:00<?, ?it/s]"
            ],
            "application/vnd.jupyter.widget-view+json": {
              "version_major": 2,
              "version_minor": 0,
              "model_id": "7c3500d980ed4eb9bd9356cc5d831bba"
            }
          },
          "metadata": {}
        },
        {
          "output_type": "stream",
          "name": "stdout",
          "text": [
            "/content/drive/My Drive/my_QmodelB_0iterations.keras\n",
            "/content/drive/My Drive/my_QmodelB_100iterations.keras\n"
          ]
        }
      ],
      "source": [
        "env = gym.make(\"CartPole-v1\")\n",
        "replay_memory = ReplayMemory(max_length=max_memory_size)\n",
        "\n",
        "for episode in tqdm(range(n_episodes)):  # tqdm makes a nice proress bar\n",
        "    state, _ = env.reset()\n",
        "    done = False\n",
        "\n",
        "    while not done:\n",
        "        if random.random() < eps:\n",
        "            action = env.action_space.sample()  # random action\n",
        "        else:\n",
        "            action = model.predict(state[np.newaxis, :], verbose=False).argmax()  # best action according to the model\n",
        "\n",
        "        next_state, reward, done, _, _ = env.step(action)\n",
        "        memory = Memory(state, action, next_state, reward, done)\n",
        "        replay_memory.store(memory)\n",
        "\n",
        "        if len(replay_memory) >= min_length:\n",
        "            batch = replay_memory.structured_sample(batch_size)  # get samples from the replay memory\n",
        "\n",
        "            target_batch = batch[\"reward\"] + gamma * model.predict(batch[\"next_state\"], verbose=False).max(axis=1) * (\n",
        "                1 - batch[\"done\"]\n",
        "            )  # R(s, a) + γ·maxₐ N(s') if not a terminal state, otherwise R(s, a)\n",
        "            targets = model.predict(batch[\"state\"], verbose=False)\n",
        "            targets[\n",
        "                range(batch_size), batch[\"action\"]\n",
        "            ] = target_batch  # set the target for the action that was done and leave the outputs of other 3 actions as they are\n",
        "\n",
        "            model.fit(batch[\"state\"], targets, verbose=False, batch_size=batch_size)  # train for one epoch\n",
        "\n",
        "        state = next_state\n",
        "    if episode % 100 == 0:\n",
        "      save_path = '/content/drive/My Drive/my_QmodelB_{}iterations.keras'.format(episode)\n",
        "      print (save_path)\n",
        "      model.save(save_path)\n",
        "    eps = max(min_eps, eps * eps_decay)\n",
        "save_path = '/content/drive/My Drive/my_QmodelB_{}iterations.keras'.format(episode)\n",
        "print (save_path)\n",
        "model.save(save_path)"
      ]
    },
    {
      "cell_type": "code",
      "source": [
        "eps_decay = 0.995\n",
        "min_eps = 0.01\n",
        "eps = 1.0\n",
        "for i in range(1000):\n",
        "  eps = max(min_eps, eps * eps_decay)\n",
        "  if (i % 10==0):\n",
        "    print (i, eps)\n",
        "\n",
        "print(eps)"
      ],
      "metadata": {
        "id": "3fqH3YTuBFo2"
      },
      "execution_count": null,
      "outputs": []
    },
    {
      "cell_type": "markdown",
      "source": [
        "# Test Learned Models"
      ],
      "metadata": {
        "id": "o3iVpRrR5AK9"
      }
    },
    {
      "cell_type": "code",
      "source": [
        "## Choose Model\n",
        "version = 1\n",
        "models = [(100, '1-3b0WuYzzscYMvJEvmdGK_GTsVvd2T_9'), (999, '1-iNHaTgKMTU7Fdoc-7IdRZCaGOFTQmIY')]\n",
        "\n",
        "!gdown {models[version][1]}\n",
        "save_path=f'my_QmodelB_{models[version][0]}iterations.keras'\n",
        "print(save_path)"
      ],
      "metadata": {
        "id": "9rrki-w45Wsu"
      },
      "execution_count": null,
      "outputs": []
    },
    {
      "cell_type": "code",
      "source": [
        "import matplotlib.pyplot as plt\n",
        "import gymnasium as gym\n",
        "import tensorflow as tf\n",
        "\n",
        "from tensorflow.keras.models import load_model\n",
        "\n",
        "model = load_model(save_path, compile=False)\n",
        "model.compile(\n",
        "    loss=tf.keras.losses.MeanSquaredError(),\n",
        "    optimizer=tf.keras.optimizers.Adam(learning_rate=0.01),\n",
        ")"
      ],
      "metadata": {
        "id": "uovqNleA7SB4"
      },
      "execution_count": null,
      "outputs": []
    },
    {
      "cell_type": "code",
      "execution_count": null,
      "metadata": {
        "id": "_vnZPrO0W4c3"
      },
      "outputs": [],
      "source": [
        "env = gym.make(\"CartPole-v1\", render_mode=\"rgb_array\")\n",
        "state, _ = env.reset()\n",
        "done = False\n",
        "total_reward = 0\n",
        "state_image=env.render()\n",
        "plt.imshow(state_image)\n",
        "plt.show()\n",
        "\n",
        "state_image=env.render()\n",
        "action = model.predict(state[np.newaxis, :], verbose=False).argmax(axis=1)[0]\n",
        "state, reward, done, _, _ = env.step(action)\n",
        "total_reward += reward\n",
        "print (f\"{action=}, {total_reward=}\")\n",
        "state_image=env.render()\n",
        "plt.imshow(state_image)\n",
        "plt.show()"
      ]
    },
    {
      "cell_type": "code",
      "source": [
        "env = gym.make(\"CartPole-v1\", render_mode=\"human\")\n",
        "\n",
        "state, _ = env.reset()\n",
        "done = False\n",
        "total_reward = 0\n",
        "\n",
        "while not done and total_reward < 500:  # force end the game after 500 time steps because the model is too good!\n",
        "    env.render()\n",
        "    action = model.predict(state[np.newaxis, :], verbose=False).argmax(axis=1)[0]\n",
        "    state, reward, done, _, _ = env.step(action)\n",
        "    total_reward += reward\n",
        "\n",
        "env.close()\n",
        "print (f\"{total_reward=}\")"
      ],
      "metadata": {
        "id": "dBZ3Dkjf67DV"
      },
      "execution_count": null,
      "outputs": []
    },
    {
      "cell_type": "code",
      "execution_count": null,
      "metadata": {
        "id": "-zerAhDxXOC6"
      },
      "outputs": [],
      "source": [
        "env.close()"
      ]
    }
  ],
  "metadata": {
    "colab": {
      "provenance": [],
      "machine_shape": "hm",
      "gpuType": "V28",
      "include_colab_link": true
    },
    "kernelspec": {
      "display_name": "Python 3",
      "name": "python3"
    },
    "language_info": {
      "name": "python"
    },
    "widgets": {
      "application/vnd.jupyter.widget-state+json": {
        "7c3500d980ed4eb9bd9356cc5d831bba": {
          "model_module": "@jupyter-widgets/controls",
          "model_name": "HBoxModel",
          "model_module_version": "1.5.0",
          "state": {
            "_dom_classes": [],
            "_model_module": "@jupyter-widgets/controls",
            "_model_module_version": "1.5.0",
            "_model_name": "HBoxModel",
            "_view_count": null,
            "_view_module": "@jupyter-widgets/controls",
            "_view_module_version": "1.5.0",
            "_view_name": "HBoxView",
            "box_style": "",
            "children": [
              "IPY_MODEL_3d8f480a643541fcb1b66e47cc9d4203",
              "IPY_MODEL_971a567c0184429391c4613c3136719b",
              "IPY_MODEL_399b2e93e3e049f3a245fec033c36769"
            ],
            "layout": "IPY_MODEL_aa3bcf8fce6842c48dda97d7d94fd703"
          }
        },
        "3d8f480a643541fcb1b66e47cc9d4203": {
          "model_module": "@jupyter-widgets/controls",
          "model_name": "HTMLModel",
          "model_module_version": "1.5.0",
          "state": {
            "_dom_classes": [],
            "_model_module": "@jupyter-widgets/controls",
            "_model_module_version": "1.5.0",
            "_model_name": "HTMLModel",
            "_view_count": null,
            "_view_module": "@jupyter-widgets/controls",
            "_view_module_version": "1.5.0",
            "_view_name": "HTMLView",
            "description": "",
            "description_tooltip": null,
            "layout": "IPY_MODEL_38ffca3b7a7a4cfeb4596e80fa37be68",
            "placeholder": "​",
            "style": "IPY_MODEL_61e645b4059b4165851dca52907a8817",
            "value": " 17%"
          }
        },
        "971a567c0184429391c4613c3136719b": {
          "model_module": "@jupyter-widgets/controls",
          "model_name": "FloatProgressModel",
          "model_module_version": "1.5.0",
          "state": {
            "_dom_classes": [],
            "_model_module": "@jupyter-widgets/controls",
            "_model_module_version": "1.5.0",
            "_model_name": "FloatProgressModel",
            "_view_count": null,
            "_view_module": "@jupyter-widgets/controls",
            "_view_module_version": "1.5.0",
            "_view_name": "ProgressView",
            "bar_style": "",
            "description": "",
            "description_tooltip": null,
            "layout": "IPY_MODEL_040838a5a21f411b980b56b961197a48",
            "max": 1000,
            "min": 0,
            "orientation": "horizontal",
            "style": "IPY_MODEL_93676a8a7a404c62802bfcf8cad15acc",
            "value": 167
          }
        },
        "399b2e93e3e049f3a245fec033c36769": {
          "model_module": "@jupyter-widgets/controls",
          "model_name": "HTMLModel",
          "model_module_version": "1.5.0",
          "state": {
            "_dom_classes": [],
            "_model_module": "@jupyter-widgets/controls",
            "_model_module_version": "1.5.0",
            "_model_name": "HTMLModel",
            "_view_count": null,
            "_view_module": "@jupyter-widgets/controls",
            "_view_module_version": "1.5.0",
            "_view_name": "HTMLView",
            "description": "",
            "description_tooltip": null,
            "layout": "IPY_MODEL_a317b6a2ac8c4498b9d5cfdcc552c0d3",
            "placeholder": "​",
            "style": "IPY_MODEL_9cbce645fcb543669fe21e55ea9cc2d5",
            "value": " 167/1000 [23:16&lt;2:10:47,  9.42s/it]"
          }
        },
        "aa3bcf8fce6842c48dda97d7d94fd703": {
          "model_module": "@jupyter-widgets/base",
          "model_name": "LayoutModel",
          "model_module_version": "1.2.0",
          "state": {
            "_model_module": "@jupyter-widgets/base",
            "_model_module_version": "1.2.0",
            "_model_name": "LayoutModel",
            "_view_count": null,
            "_view_module": "@jupyter-widgets/base",
            "_view_module_version": "1.2.0",
            "_view_name": "LayoutView",
            "align_content": null,
            "align_items": null,
            "align_self": null,
            "border": null,
            "bottom": null,
            "display": null,
            "flex": null,
            "flex_flow": null,
            "grid_area": null,
            "grid_auto_columns": null,
            "grid_auto_flow": null,
            "grid_auto_rows": null,
            "grid_column": null,
            "grid_gap": null,
            "grid_row": null,
            "grid_template_areas": null,
            "grid_template_columns": null,
            "grid_template_rows": null,
            "height": null,
            "justify_content": null,
            "justify_items": null,
            "left": null,
            "margin": null,
            "max_height": null,
            "max_width": null,
            "min_height": null,
            "min_width": null,
            "object_fit": null,
            "object_position": null,
            "order": null,
            "overflow": null,
            "overflow_x": null,
            "overflow_y": null,
            "padding": null,
            "right": null,
            "top": null,
            "visibility": null,
            "width": null
          }
        },
        "38ffca3b7a7a4cfeb4596e80fa37be68": {
          "model_module": "@jupyter-widgets/base",
          "model_name": "LayoutModel",
          "model_module_version": "1.2.0",
          "state": {
            "_model_module": "@jupyter-widgets/base",
            "_model_module_version": "1.2.0",
            "_model_name": "LayoutModel",
            "_view_count": null,
            "_view_module": "@jupyter-widgets/base",
            "_view_module_version": "1.2.0",
            "_view_name": "LayoutView",
            "align_content": null,
            "align_items": null,
            "align_self": null,
            "border": null,
            "bottom": null,
            "display": null,
            "flex": null,
            "flex_flow": null,
            "grid_area": null,
            "grid_auto_columns": null,
            "grid_auto_flow": null,
            "grid_auto_rows": null,
            "grid_column": null,
            "grid_gap": null,
            "grid_row": null,
            "grid_template_areas": null,
            "grid_template_columns": null,
            "grid_template_rows": null,
            "height": null,
            "justify_content": null,
            "justify_items": null,
            "left": null,
            "margin": null,
            "max_height": null,
            "max_width": null,
            "min_height": null,
            "min_width": null,
            "object_fit": null,
            "object_position": null,
            "order": null,
            "overflow": null,
            "overflow_x": null,
            "overflow_y": null,
            "padding": null,
            "right": null,
            "top": null,
            "visibility": null,
            "width": null
          }
        },
        "61e645b4059b4165851dca52907a8817": {
          "model_module": "@jupyter-widgets/controls",
          "model_name": "DescriptionStyleModel",
          "model_module_version": "1.5.0",
          "state": {
            "_model_module": "@jupyter-widgets/controls",
            "_model_module_version": "1.5.0",
            "_model_name": "DescriptionStyleModel",
            "_view_count": null,
            "_view_module": "@jupyter-widgets/base",
            "_view_module_version": "1.2.0",
            "_view_name": "StyleView",
            "description_width": ""
          }
        },
        "040838a5a21f411b980b56b961197a48": {
          "model_module": "@jupyter-widgets/base",
          "model_name": "LayoutModel",
          "model_module_version": "1.2.0",
          "state": {
            "_model_module": "@jupyter-widgets/base",
            "_model_module_version": "1.2.0",
            "_model_name": "LayoutModel",
            "_view_count": null,
            "_view_module": "@jupyter-widgets/base",
            "_view_module_version": "1.2.0",
            "_view_name": "LayoutView",
            "align_content": null,
            "align_items": null,
            "align_self": null,
            "border": null,
            "bottom": null,
            "display": null,
            "flex": null,
            "flex_flow": null,
            "grid_area": null,
            "grid_auto_columns": null,
            "grid_auto_flow": null,
            "grid_auto_rows": null,
            "grid_column": null,
            "grid_gap": null,
            "grid_row": null,
            "grid_template_areas": null,
            "grid_template_columns": null,
            "grid_template_rows": null,
            "height": null,
            "justify_content": null,
            "justify_items": null,
            "left": null,
            "margin": null,
            "max_height": null,
            "max_width": null,
            "min_height": null,
            "min_width": null,
            "object_fit": null,
            "object_position": null,
            "order": null,
            "overflow": null,
            "overflow_x": null,
            "overflow_y": null,
            "padding": null,
            "right": null,
            "top": null,
            "visibility": null,
            "width": null
          }
        },
        "93676a8a7a404c62802bfcf8cad15acc": {
          "model_module": "@jupyter-widgets/controls",
          "model_name": "ProgressStyleModel",
          "model_module_version": "1.5.0",
          "state": {
            "_model_module": "@jupyter-widgets/controls",
            "_model_module_version": "1.5.0",
            "_model_name": "ProgressStyleModel",
            "_view_count": null,
            "_view_module": "@jupyter-widgets/base",
            "_view_module_version": "1.2.0",
            "_view_name": "StyleView",
            "bar_color": null,
            "description_width": ""
          }
        },
        "a317b6a2ac8c4498b9d5cfdcc552c0d3": {
          "model_module": "@jupyter-widgets/base",
          "model_name": "LayoutModel",
          "model_module_version": "1.2.0",
          "state": {
            "_model_module": "@jupyter-widgets/base",
            "_model_module_version": "1.2.0",
            "_model_name": "LayoutModel",
            "_view_count": null,
            "_view_module": "@jupyter-widgets/base",
            "_view_module_version": "1.2.0",
            "_view_name": "LayoutView",
            "align_content": null,
            "align_items": null,
            "align_self": null,
            "border": null,
            "bottom": null,
            "display": null,
            "flex": null,
            "flex_flow": null,
            "grid_area": null,
            "grid_auto_columns": null,
            "grid_auto_flow": null,
            "grid_auto_rows": null,
            "grid_column": null,
            "grid_gap": null,
            "grid_row": null,
            "grid_template_areas": null,
            "grid_template_columns": null,
            "grid_template_rows": null,
            "height": null,
            "justify_content": null,
            "justify_items": null,
            "left": null,
            "margin": null,
            "max_height": null,
            "max_width": null,
            "min_height": null,
            "min_width": null,
            "object_fit": null,
            "object_position": null,
            "order": null,
            "overflow": null,
            "overflow_x": null,
            "overflow_y": null,
            "padding": null,
            "right": null,
            "top": null,
            "visibility": null,
            "width": null
          }
        },
        "9cbce645fcb543669fe21e55ea9cc2d5": {
          "model_module": "@jupyter-widgets/controls",
          "model_name": "DescriptionStyleModel",
          "model_module_version": "1.5.0",
          "state": {
            "_model_module": "@jupyter-widgets/controls",
            "_model_module_version": "1.5.0",
            "_model_name": "DescriptionStyleModel",
            "_view_count": null,
            "_view_module": "@jupyter-widgets/base",
            "_view_module_version": "1.2.0",
            "_view_name": "StyleView",
            "description_width": ""
          }
        }
      }
    },
    "accelerator": "TPU"
  },
  "nbformat": 4,
  "nbformat_minor": 0
}