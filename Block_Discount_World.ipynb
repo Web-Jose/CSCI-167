{
  "nbformat": 4,
  "nbformat_minor": 0,
  "metadata": {
    "colab": {
      "provenance": [],
      "authorship_tag": "ABX9TyPs62tFEbWXMHwz+LSHW7T3",
      "include_colab_link": true
    },
    "kernelspec": {
      "name": "python3",
      "display_name": "Python 3"
    },
    "language_info": {
      "name": "python"
    }
  },
  "cells": [
    {
      "cell_type": "markdown",
      "metadata": {
        "id": "view-in-github",
        "colab_type": "text"
      },
      "source": [
        "<a href=\"https://colab.research.google.com/github/Web-Jose/CSCI-167/blob/main/Block_Discount_World.ipynb\" target=\"_parent\"><img src=\"https://colab.research.google.com/assets/colab-badge.svg\" alt=\"Open In Colab\"/></a>"
      ]
    },
    {
      "cell_type": "code",
      "execution_count": 9,
      "metadata": {
        "id": "9sPOpgTu13wn"
      },
      "outputs": [],
      "source": [
        "# Imports\n",
        "import numpy as np\n",
        "\n",
        "# Define the states and actions\n",
        "states = ['a', 'b', 'c', 'd', 'e']\n",
        "actions = ['Left', 'Right', 'Exit']\n",
        "\n",
        "# Define rewards for each state-action pair\n",
        "rewards = {\n",
        "    'a': {'Exit': 10, 'Left': 0, 'Right': 0},\n",
        "    'b': {'Left': 0, 'Right': 0},\n",
        "    'c': {'Left': 0, 'Right': 0},\n",
        "    'd': {'Left': 0, 'Right': 0},\n",
        "    'e': {'Exit': 1, 'Left': 0, 'Right': 0}\n",
        "}\n",
        "\n",
        "# Define transitions for deterministic case\n",
        "transitions = {\n",
        "    'a': {'Left': 'a', 'Right': 'b', 'Exit': None},\n",
        "    'b': {'Left': 'a', 'Right': 'c'},\n",
        "    'c': {'Left': 'b', 'Right': 'd'},\n",
        "    'd': {'Left': 'c', 'Right': 'e'},\n",
        "    'e': {'Left': 'd', 'Right': 'e', 'Exit': None}\n",
        "}"
      ]
    },
    {
      "cell_type": "code",
      "source": [
        "def value_iteration(states, actions, rewards, transitions, gamma, theta=1e-6):\n",
        "    V = {state: 0 for state in states}  # Initialize value function\n",
        "    policy = {state: None for state in states}  # Initialize policy\n",
        "\n",
        "    while True:\n",
        "        delta = 0\n",
        "        for state in states:\n",
        "            if state in rewards and 'Exit' in rewards[state]:\n",
        "                best_action_value = rewards[state]['Exit']\n",
        "                best_action = 'Exit'\n",
        "            else:\n",
        "                action_values = []\n",
        "                for action in actions:\n",
        "                    if action in transitions[state]:\n",
        "                        next_state = transitions[state][action]\n",
        "                        reward = rewards[state][action]\n",
        "                        action_value = reward\n",
        "                        if next_state:\n",
        "                            action_value += gamma * V[next_state]\n",
        "                        action_values.append((action_value, action))\n",
        "                best_action_value, best_action = max(action_values)\n",
        "\n",
        "            delta = max(delta, np.abs(V[state] - best_action_value))\n",
        "            V[state] = best_action_value\n",
        "            policy[state] = best_action\n",
        "\n",
        "        if delta < theta:\n",
        "            break\n",
        "\n",
        "    return V, policy"
      ],
      "metadata": {
        "id": "8mnId1-S3IaB"
      },
      "execution_count": 10,
      "outputs": []
    },
    {
      "cell_type": "code",
      "source": [
        "# (1) Calculate Optimum Policy for gamma=1\n",
        "gamma_1 = 1.0\n",
        "V_1, policy_1 = value_iteration(states, actions, rewards, transitions, gamma_1)\n",
        "print(\"Optimum Policy for gamma=1:\")\n",
        "print(policy_1)"
      ],
      "metadata": {
        "colab": {
          "base_uri": "https://localhost:8080/"
        },
        "id": "RwJtnuxD3OCF",
        "outputId": "13cc5019-e4c7-44c4-8ce6-6598dd48703c"
      },
      "execution_count": 11,
      "outputs": [
        {
          "output_type": "stream",
          "name": "stdout",
          "text": [
            "Optimum Policy for gamma=1:\n",
            "{'a': 'Exit', 'b': 'Right', 'c': 'Right', 'd': 'Left', 'e': 'Exit'}\n"
          ]
        }
      ]
    },
    {
      "cell_type": "code",
      "source": [
        "# (2) Calculate Optimum Policy for gamma=0.1\n",
        "gamma_01 = 0.1\n",
        "V_01, policy_01 = value_iteration(states, actions, rewards, transitions, gamma_01)\n",
        "print(\"Optimum Policy for gamma=0.1:\")\n",
        "print(policy_01)"
      ],
      "metadata": {
        "colab": {
          "base_uri": "https://localhost:8080/"
        },
        "id": "Eny06VME3Qpl",
        "outputId": "333ec8a1-c811-491a-b01f-0ebe1b995ff6"
      },
      "execution_count": 12,
      "outputs": [
        {
          "output_type": "stream",
          "name": "stdout",
          "text": [
            "Optimum Policy for gamma=0.1:\n",
            "{'a': 'Exit', 'b': 'Left', 'c': 'Left', 'd': 'Right', 'e': 'Exit'}\n"
          ]
        }
      ]
    },
    {
      "cell_type": "code",
      "source": [
        "# (3) Calculate the value of the sequence of rewards from each of the states under the optimum policy\n",
        "print(\"Value Function for gamma=1:\")\n",
        "print(V_1)\n",
        "\n",
        "print(\"Value Function for gamma=0.1:\")\n",
        "print(V_01)"
      ],
      "metadata": {
        "colab": {
          "base_uri": "https://localhost:8080/"
        },
        "id": "uDFl01Px3SwH",
        "outputId": "52cad69b-349e-4333-d97a-95fac6c7bea7"
      },
      "execution_count": 13,
      "outputs": [
        {
          "output_type": "stream",
          "name": "stdout",
          "text": [
            "Value Function for gamma=1:\n",
            "{'a': 10, 'b': 10.0, 'c': 10.0, 'd': 10.0, 'e': 1}\n",
            "Value Function for gamma=0.1:\n",
            "{'a': 10, 'b': 1.0, 'c': 0.1, 'd': 0.1, 'e': 1}\n"
          ]
        }
      ]
    },
    {
      "cell_type": "code",
      "source": [
        "# (4) For which gamma, are West and East equally good when in state d?\n",
        "\n",
        "def find_gamma_for_equal_value(states, actions, rewards, transitions, state, action1, action2, theta=1e-6):\n",
        "    low, high = 0, 1\n",
        "    while high - low > theta:\n",
        "        gamma = (low + high) / 2\n",
        "        V, _ = value_iteration(states, actions, rewards, transitions, gamma, theta)\n",
        "        value1 = rewards[state][action1] + (gamma * V[transitions[state][action1]])\n",
        "        value2 = rewards[state][action2] + (gamma * V[transitions[state][action2]])\n",
        "        if np.abs(value1 - value2) < theta:\n",
        "            return gamma\n",
        "        elif value1 > value2:\n",
        "            low = gamma\n",
        "        else:\n",
        "            high = gamma\n",
        "    return (low + high) / 2"
      ],
      "metadata": {
        "id": "2nhxwaLX3VZ_"
      },
      "execution_count": 14,
      "outputs": []
    },
    {
      "cell_type": "code",
      "source": [
        "gamma_equal = find_gamma_for_equal_value(states, actions, rewards, transitions, 'd', 'Left', 'Right')\n",
        "print(f\"Gamma for which West and East are equally good in state d: {gamma_equal}\")"
      ],
      "metadata": {
        "colab": {
          "base_uri": "https://localhost:8080/"
        },
        "id": "o-0Ofo7Z3YDU",
        "outputId": "a7b5aa8c-f8d9-4ff4-ae35-663e7a41dc5c"
      },
      "execution_count": 15,
      "outputs": [
        {
          "output_type": "stream",
          "name": "stdout",
          "text": [
            "Gamma for which West and East are equally good in state d: 0.9999995231628418\n"
          ]
        }
      ]
    }
  ]
}