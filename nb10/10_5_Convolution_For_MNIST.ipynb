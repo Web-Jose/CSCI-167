{
  "nbformat": 4,
  "nbformat_minor": 0,
  "metadata": {
    "colab": {
      "provenance": [],
      "include_colab_link": true
    },
    "kernelspec": {
      "name": "python3",
      "display_name": "Python 3"
    },
    "language_info": {
      "name": "python"
    }
  },
  "cells": [
    {
      "cell_type": "markdown",
      "metadata": {
        "id": "view-in-github",
        "colab_type": "text"
      },
      "source": [
        "<a href=\"https://colab.research.google.com/github/Web-Jose/CSCI-167/blob/main/nb10/10_5_Convolution_For_MNIST.ipynb\" target=\"_parent\"><img src=\"https://colab.research.google.com/assets/colab-badge.svg\" alt=\"Open In Colab\"/></a>"
      ]
    },
    {
      "cell_type": "markdown",
      "source": [
        "# **Notebook 10.5: Convolution for MNIST**\n",
        "\n",
        "This notebook builds a proper network for 2D convolution.  It works with the MNIST dataset (figure 15.15a), which was the original classic dataset for classifying images.  The network will take a 28x28 grayscale image and classify it into one of 10 classes representing a digit.\n",
        "\n",
        "The code is adapted from https://nextjournal.com/gkoehler/pytorch-mnist\n",
        "\n",
        "Work through the cells below, running each cell in turn. In various places you will see the words \"TO DO\". Follow the instructions at these places and make predictions about what is going to happen or write code to complete the functions.\n",
        "\n",
        "Contact me at udlbookmail@gmail.com if you find any mistakes or have any suggestions.\n"
      ],
      "metadata": {
        "id": "t9vk9Elugvmi"
      }
    },
    {
      "cell_type": "code",
      "source": [
        "import torch\n",
        "import torchvision\n",
        "import torch.nn as nn\n",
        "import torch.nn.functional as F\n",
        "import torch.optim as optim\n",
        "import matplotlib.pyplot as plt\n",
        "import random"
      ],
      "metadata": {
        "id": "YrXWAH7sUWvU"
      },
      "execution_count": 1,
      "outputs": []
    },
    {
      "cell_type": "code",
      "source": [
        "# Run this once to load the train and test data straight into a dataloader class\n",
        "# that will provide the batches\n",
        "\n",
        "# (It may complain that some files are missing because the files seem to have been\n",
        "# reorganized on the underlying website, but it still seems to work). If everything is working\n",
        "# properly, then the whole notebook should run to the end without further problems\n",
        "# even before you make changes.\n",
        "batch_size_train = 64\n",
        "batch_size_test = 1000\n",
        "\n",
        "# TODO Change this directory to point towards an existing directory\n",
        "myDir = '/files/'\n",
        "\n",
        "train_loader = torch.utils.data.DataLoader(\n",
        "  torchvision.datasets.MNIST(myDir, train=True, download=True,\n",
        "                             transform=torchvision.transforms.Compose([\n",
        "                               torchvision.transforms.ToTensor(),\n",
        "                               torchvision.transforms.Normalize(\n",
        "                                 (0.1307,), (0.3081,))\n",
        "                             ])),\n",
        "  batch_size=batch_size_train, shuffle=True)\n",
        "\n",
        "test_loader = torch.utils.data.DataLoader(\n",
        "  torchvision.datasets.MNIST(myDir, train=False, download=True,\n",
        "                             transform=torchvision.transforms.Compose([\n",
        "                               torchvision.transforms.ToTensor(),\n",
        "                               torchvision.transforms.Normalize(\n",
        "                                 (0.1307,), (0.3081,))\n",
        "                             ])),\n",
        "  batch_size=batch_size_test, shuffle=True)"
      ],
      "metadata": {
        "id": "wScBGXXFVadm",
        "colab": {
          "base_uri": "https://localhost:8080/"
        },
        "outputId": "f816d524-aadd-47dc-fefd-697d69d3d9a0"
      },
      "execution_count": 2,
      "outputs": [
        {
          "output_type": "stream",
          "name": "stdout",
          "text": [
            "Downloading http://yann.lecun.com/exdb/mnist/train-images-idx3-ubyte.gz\n",
            "Failed to download (trying next):\n",
            "<urlopen error [SSL: CERTIFICATE_VERIFY_FAILED] certificate verify failed: certificate has expired (_ssl.c:1007)>\n",
            "\n",
            "Downloading https://ossci-datasets.s3.amazonaws.com/mnist/train-images-idx3-ubyte.gz\n",
            "Downloading https://ossci-datasets.s3.amazonaws.com/mnist/train-images-idx3-ubyte.gz to /files/MNIST/raw/train-images-idx3-ubyte.gz\n"
          ]
        },
        {
          "output_type": "stream",
          "name": "stderr",
          "text": [
            "100%|██████████| 9.91M/9.91M [00:02<00:00, 4.75MB/s]\n"
          ]
        },
        {
          "output_type": "stream",
          "name": "stdout",
          "text": [
            "Extracting /files/MNIST/raw/train-images-idx3-ubyte.gz to /files/MNIST/raw\n",
            "\n",
            "Downloading http://yann.lecun.com/exdb/mnist/train-labels-idx1-ubyte.gz\n",
            "Failed to download (trying next):\n",
            "<urlopen error [SSL: CERTIFICATE_VERIFY_FAILED] certificate verify failed: certificate has expired (_ssl.c:1007)>\n",
            "\n",
            "Downloading https://ossci-datasets.s3.amazonaws.com/mnist/train-labels-idx1-ubyte.gz\n",
            "Downloading https://ossci-datasets.s3.amazonaws.com/mnist/train-labels-idx1-ubyte.gz to /files/MNIST/raw/train-labels-idx1-ubyte.gz\n"
          ]
        },
        {
          "output_type": "stream",
          "name": "stderr",
          "text": [
            "100%|██████████| 28.9k/28.9k [00:00<00:00, 155kB/s]\n"
          ]
        },
        {
          "output_type": "stream",
          "name": "stdout",
          "text": [
            "Extracting /files/MNIST/raw/train-labels-idx1-ubyte.gz to /files/MNIST/raw\n",
            "\n",
            "Downloading http://yann.lecun.com/exdb/mnist/t10k-images-idx3-ubyte.gz\n",
            "Failed to download (trying next):\n",
            "<urlopen error [SSL: CERTIFICATE_VERIFY_FAILED] certificate verify failed: certificate has expired (_ssl.c:1007)>\n",
            "\n",
            "Downloading https://ossci-datasets.s3.amazonaws.com/mnist/t10k-images-idx3-ubyte.gz\n",
            "Downloading https://ossci-datasets.s3.amazonaws.com/mnist/t10k-images-idx3-ubyte.gz to /files/MNIST/raw/t10k-images-idx3-ubyte.gz\n"
          ]
        },
        {
          "output_type": "stream",
          "name": "stderr",
          "text": [
            "100%|██████████| 1.65M/1.65M [00:01<00:00, 1.45MB/s]\n"
          ]
        },
        {
          "output_type": "stream",
          "name": "stdout",
          "text": [
            "Extracting /files/MNIST/raw/t10k-images-idx3-ubyte.gz to /files/MNIST/raw\n",
            "\n",
            "Downloading http://yann.lecun.com/exdb/mnist/t10k-labels-idx1-ubyte.gz\n",
            "Failed to download (trying next):\n",
            "<urlopen error [SSL: CERTIFICATE_VERIFY_FAILED] certificate verify failed: certificate has expired (_ssl.c:1007)>\n",
            "\n",
            "Downloading https://ossci-datasets.s3.amazonaws.com/mnist/t10k-labels-idx1-ubyte.gz\n",
            "Downloading https://ossci-datasets.s3.amazonaws.com/mnist/t10k-labels-idx1-ubyte.gz to /files/MNIST/raw/t10k-labels-idx1-ubyte.gz\n"
          ]
        },
        {
          "output_type": "stream",
          "name": "stderr",
          "text": [
            "100%|██████████| 4.54k/4.54k [00:00<00:00, 3.49MB/s]"
          ]
        },
        {
          "output_type": "stream",
          "name": "stdout",
          "text": [
            "Extracting /files/MNIST/raw/t10k-labels-idx1-ubyte.gz to /files/MNIST/raw\n",
            "\n"
          ]
        },
        {
          "output_type": "stream",
          "name": "stderr",
          "text": [
            "\n"
          ]
        }
      ]
    },
    {
      "cell_type": "code",
      "source": [
        "# Let's draw some of the training data\n",
        "examples = enumerate(test_loader)\n",
        "batch_idx, (example_data, example_targets) = next(examples)\n",
        "\n",
        "fig = plt.figure()\n",
        "for i in range(6):\n",
        "  plt.subplot(2,3,i+1)\n",
        "  plt.tight_layout()\n",
        "  plt.imshow(example_data[i][0], cmap='gray', interpolation='none')\n",
        "  plt.title(\"Ground Truth: {}\".format(example_targets[i]))\n",
        "  plt.xticks([])\n",
        "  plt.yticks([])\n",
        "plt.show()"
      ],
      "metadata": {
        "id": "8bKADvLHbiV5",
        "colab": {
          "base_uri": "https://localhost:8080/",
          "height": 438
        },
        "outputId": "2fb9782d-0875-4c6c-c3a3-efac14d3b60f"
      },
      "execution_count": 3,
      "outputs": [
        {
          "output_type": "display_data",
          "data": {
            "text/plain": [
              "<Figure size 640x480 with 6 Axes>"
            ],
            "image/png": "[encoded data removed]"
          },
          "metadata": {}
        }
      ]
    },
    {
      "cell_type": "markdown",
      "source": [
        "Define the network.  This is a more typical way to define a network than the sequential structure.  We define a class for the network, and define the parameters in the constructor.  Then we use a function called forward to actually run the network.  It's easy to see how you might use residual connections in this format."
      ],
      "metadata": {
        "id": "_sFvRDGrl4qe"
      }
    },
    {
      "cell_type": "code",
      "source": [
        "from os import X_OK\n",
        "# TODO Change this class to implement\n",
        "# 1. A valid convolution with kernel size 5, 1 input channel and 10 output channels\n",
        "# 2. A max pooling operation over a 2x2 area\n",
        "# 3. A Relu\n",
        "# 4. A valid convolution with kernel size 5, 10 input channels and 20 output channels\n",
        "# 5. A 2D Dropout layer\n",
        "# 6. A max pooling operation over a 2x2 area\n",
        "# 7. A relu\n",
        "# 8. A flattening operation\n",
        "# 9. A fully connected layer mapping from (whatever dimensions we are at-- find out using .shape) to 50\n",
        "# 10. A ReLU\n",
        "# 11. A fully connected layer mapping from 50 to 10 dimensions\n",
        "# 12. A softmax function.\n",
        "\n",
        "# Replace this class which implements a minimal network (which still does okay)\n",
        "class Net(nn.Module):\n",
        "    def __init__(self):\n",
        "        super(Net, self).__init__()\n",
        "        # Valid convolution, 1 channel in, 2 channels out, stride 1, kernel size = 3\n",
        "        self.conv1 = nn.Conv2d(1, 10, kernel_size=5)\n",
        "        # 10 input channels, 20 outputs channels, kernel size 5\n",
        "        self.conv2 = nn.Conv2d(10, 20, kernel_size=5)\n",
        "        # Dropout for convolutions\n",
        "        self.drop = nn.Dropout2d()\n",
        "        # Fully connected layer\n",
        "        self.fc1 = nn.Linear(320, 50)\n",
        "        # Fully connected layer\n",
        "        self.fc2 = nn.Linear(50, 10)\n",
        "\n",
        "    def forward(self, x):\n",
        "        x = F.relu(self.conv1(x))\n",
        "        x = F.max_pool2d(x, 2)\n",
        "        x = F.relu(self.conv2(x))\n",
        "        x = self.drop(x)\n",
        "        x = F.max_pool2d(x, 2)\n",
        "        x = x.view(-1, 320)  # Flatten the tensor\n",
        "        x = F.relu(self.fc1(x))\n",
        "        x = F.log_softmax(self.fc2(x), dim=1)\n",
        "        return x\n",
        "\n",
        "\n",
        "\n",
        "\n"
      ],
      "metadata": {
        "id": "EQkvw2KOPVl7"
      },
      "execution_count": 4,
      "outputs": []
    },
    {
      "cell_type": "code",
      "source": [
        "# He initialization of weights\n",
        "def weights_init(layer_in):\n",
        "  if isinstance(layer_in, nn.Linear):\n",
        "    nn.init.kaiming_uniform_(layer_in.weight)\n",
        "    layer_in.bias.data.fill_(0.0)"
      ],
      "metadata": {
        "id": "qWZtkCZcU_dg"
      },
      "execution_count": 5,
      "outputs": []
    },
    {
      "cell_type": "code",
      "source": [
        "# Create network\n",
        "model = Net()\n",
        "# Initialize model weights\n",
        "model.apply(weights_init)\n",
        "# Define optimizer\n",
        "optimizer = optim.SGD(model.parameters(), lr=0.01, momentum=0.5)"
      ],
      "metadata": {
        "id": "FslroPJJffrh"
      },
      "execution_count": 6,
      "outputs": []
    },
    {
      "cell_type": "code",
      "source": [
        "# Main training routine\n",
        "def train(epoch):\n",
        "  model.train()\n",
        "  # Get each\n",
        "  for batch_idx, (data, target) in enumerate(train_loader):\n",
        "    optimizer.zero_grad()\n",
        "    output = model(data)\n",
        "    loss = F.nll_loss(output, target)\n",
        "    loss.backward()\n",
        "    optimizer.step()\n",
        "    # Store results\n",
        "    if batch_idx % 10 == 0:\n",
        "      print('Train Epoch: {} [{}/{}]\\tLoss: {:.6f}'.format(\n",
        "        epoch, batch_idx * len(data), len(train_loader.dataset), loss.item()))"
      ],
      "metadata": {
        "id": "xKQd9PzkQ766"
      },
      "execution_count": 7,
      "outputs": []
    },
    {
      "cell_type": "code",
      "source": [
        "# Run on test data\n",
        "def test():\n",
        "  model.eval()\n",
        "  test_loss = 0\n",
        "  correct = 0\n",
        "  with torch.no_grad():\n",
        "    for data, target in test_loader:\n",
        "      output = model(data)\n",
        "      test_loss += F.nll_loss(output, target, size_average=False).item()\n",
        "      pred = output.data.max(1, keepdim=True)[1]\n",
        "      correct += pred.eq(target.data.view_as(pred)).sum()\n",
        "  test_loss /= len(test_loader.dataset)\n",
        "  print('\\nTest set: Avg. loss: {:.4f}, Accuracy: {}/{} ({:.0f}%)\\n'.format(\n",
        "    test_loss, correct, len(test_loader.dataset),\n",
        "    100. * correct / len(test_loader.dataset)))"
      ],
      "metadata": {
        "id": "Byn-f7qWRLxX"
      },
      "execution_count": 8,
      "outputs": []
    },
    {
      "cell_type": "code",
      "source": [
        "# Get initial performance\n",
        "test()\n",
        "# Train for three epochs\n",
        "n_epochs = 3\n",
        "for epoch in range(1, n_epochs + 1):\n",
        "  train(epoch)\n",
        "  test()"
      ],
      "metadata": {
        "id": "YgLaex1pfhqz",
        "colab": {
          "base_uri": "https://localhost:8080/"
        },
        "outputId": "061f61cb-08d8-4e65-aa7f-096824d206bc"
      },
      "execution_count": 9,
      "outputs": [
        {
          "output_type": "stream",
          "name": "stderr",
          "text": [
            "/usr/local/lib/python3.10/dist-packages/torch/nn/_reduction.py:51: UserWarning: size_average and reduce args will be deprecated, please use reduction='sum' instead.\n",
            "  warnings.warn(warning.format(ret))\n"
          ]
        },
        {
          "output_type": "stream",
          "name": "stdout",
          "text": [
            "\n",
            "Test set: Avg. loss: 2.3391, Accuracy: 1241/10000 (12%)\n",
            "\n",
            "Train Epoch: 1 [0/60000]\tLoss: 2.471273\n",
            "Train Epoch: 1 [640/60000]\tLoss: 2.309439\n",
            "Train Epoch: 1 [1280/60000]\tLoss: 2.170201\n",
            "Train Epoch: 1 [1920/60000]\tLoss: 2.005954\n",
            "Train Epoch: 1 [2560/60000]\tLoss: 1.680838\n",
            "Train Epoch: 1 [3200/60000]\tLoss: 1.572338\n",
            "Train Epoch: 1 [3840/60000]\tLoss: 1.466799\n",
            "Train Epoch: 1 [4480/60000]\tLoss: 1.459330\n",
            "Train Epoch: 1 [5120/60000]\tLoss: 1.243783\n",
            "Train Epoch: 1 [5760/60000]\tLoss: 1.230463\n",
            "Train Epoch: 1 [6400/60000]\tLoss: 1.089868\n",
            "Train Epoch: 1 [7040/60000]\tLoss: 1.063579\n",
            "Train Epoch: 1 [7680/60000]\tLoss: 0.766665\n",
            "Train Epoch: 1 [8320/60000]\tLoss: 0.782952\n",
            "Train Epoch: 1 [8960/60000]\tLoss: 0.748402\n",
            "Train Epoch: 1 [9600/60000]\tLoss: 0.847512\n",
            "Train Epoch: 1 [10240/60000]\tLoss: 0.843412\n",
            "Train Epoch: 1 [10880/60000]\tLoss: 0.652382\n",
            "Train Epoch: 1 [11520/60000]\tLoss: 0.506352\n",
            "Train Epoch: 1 [12160/60000]\tLoss: 0.683608\n",
            "Train Epoch: 1 [12800/60000]\tLoss: 0.600210\n",
            "Train Epoch: 1 [13440/60000]\tLoss: 0.489430\n",
            "Train Epoch: 1 [14080/60000]\tLoss: 0.338604\n",
            "Train Epoch: 1 [14720/60000]\tLoss: 0.756265\n",
            "Train Epoch: 1 [15360/60000]\tLoss: 0.558927\n",
            "Train Epoch: 1 [16000/60000]\tLoss: 0.519090\n",
            "Train Epoch: 1 [16640/60000]\tLoss: 0.524845\n",
            "Train Epoch: 1 [17280/60000]\tLoss: 0.733586\n",
            "Train Epoch: 1 [17920/60000]\tLoss: 0.494307\n",
            "Train Epoch: 1 [18560/60000]\tLoss: 0.584498\n",
            "Train Epoch: 1 [19200/60000]\tLoss: 0.495456\n",
            "Train Epoch: 1 [19840/60000]\tLoss: 0.828278\n",
            "Train Epoch: 1 [20480/60000]\tLoss: 0.386478\n",
            "Train Epoch: 1 [21120/60000]\tLoss: 0.542546\n",
            "Train Epoch: 1 [21760/60000]\tLoss: 0.333041\n",
            "Train Epoch: 1 [22400/60000]\tLoss: 0.562072\n",
            "Train Epoch: 1 [23040/60000]\tLoss: 0.546172\n",
            "Train Epoch: 1 [23680/60000]\tLoss: 0.529944\n",
            "Train Epoch: 1 [24320/60000]\tLoss: 0.591412\n",
            "Train Epoch: 1 [24960/60000]\tLoss: 0.323894\n",
            "Train Epoch: 1 [25600/60000]\tLoss: 0.503177\n",
            "Train Epoch: 1 [26240/60000]\tLoss: 0.498746\n",
            "Train Epoch: 1 [26880/60000]\tLoss: 0.320665\n",
            "Train Epoch: 1 [27520/60000]\tLoss: 0.643631\n",
            "Train Epoch: 1 [28160/60000]\tLoss: 0.312405\n",
            "Train Epoch: 1 [28800/60000]\tLoss: 0.286321\n",
            "Train Epoch: 1 [29440/60000]\tLoss: 0.526792\n",
            "Train Epoch: 1 [30080/60000]\tLoss: 0.227047\n",
            "Train Epoch: 1 [30720/60000]\tLoss: 0.338168\n",
            "Train Epoch: 1 [31360/60000]\tLoss: 0.373487\n",
            "Train Epoch: 1 [32000/60000]\tLoss: 0.290048\n",
            "Train Epoch: 1 [32640/60000]\tLoss: 0.323145\n",
            "Train Epoch: 1 [33280/60000]\tLoss: 0.381198\n",
            "Train Epoch: 1 [33920/60000]\tLoss: 0.450120\n",
            "Train Epoch: 1 [34560/60000]\tLoss: 0.434371\n",
            "Train Epoch: 1 [35200/60000]\tLoss: 0.256601\n",
            "Train Epoch: 1 [35840/60000]\tLoss: 0.318892\n",
            "Train Epoch: 1 [36480/60000]\tLoss: 0.441935\n",
            "Train Epoch: 1 [37120/60000]\tLoss: 0.322830\n",
            "Train Epoch: 1 [37760/60000]\tLoss: 0.568516\n",
            "Train Epoch: 1 [38400/60000]\tLoss: 0.237997\n",
            "Train Epoch: 1 [39040/60000]\tLoss: 0.327788\n",
            "Train Epoch: 1 [39680/60000]\tLoss: 0.252486\n",
            "Train Epoch: 1 [40320/60000]\tLoss: 0.305159\n",
            "Train Epoch: 1 [40960/60000]\tLoss: 0.198307\n",
            "Train Epoch: 1 [41600/60000]\tLoss: 0.405725\n",
            "Train Epoch: 1 [42240/60000]\tLoss: 0.227212\n",
            "Train Epoch: 1 [42880/60000]\tLoss: 0.350732\n",
            "Train Epoch: 1 [43520/60000]\tLoss: 0.391142\n",
            "Train Epoch: 1 [44160/60000]\tLoss: 0.252850\n",
            "Train Epoch: 1 [44800/60000]\tLoss: 0.339717\n",
            "Train Epoch: 1 [45440/60000]\tLoss: 0.254858\n",
            "Train Epoch: 1 [46080/60000]\tLoss: 0.345086\n",
            "Train Epoch: 1 [46720/60000]\tLoss: 0.463921\n",
            "Train Epoch: 1 [47360/60000]\tLoss: 0.399495\n",
            "Train Epoch: 1 [48000/60000]\tLoss: 0.275636\n",
            "Train Epoch: 1 [48640/60000]\tLoss: 0.227850\n",
            "Train Epoch: 1 [49280/60000]\tLoss: 0.345076\n",
            "Train Epoch: 1 [49920/60000]\tLoss: 0.139726\n",
            "Train Epoch: 1 [50560/60000]\tLoss: 0.454105\n",
            "Train Epoch: 1 [51200/60000]\tLoss: 0.546632\n",
            "Train Epoch: 1 [51840/60000]\tLoss: 0.248252\n",
            "Train Epoch: 1 [52480/60000]\tLoss: 0.297254\n",
            "Train Epoch: 1 [53120/60000]\tLoss: 0.271486\n",
            "Train Epoch: 1 [53760/60000]\tLoss: 0.412216\n",
            "Train Epoch: 1 [54400/60000]\tLoss: 0.529475\n",
            "Train Epoch: 1 [55040/60000]\tLoss: 0.259080\n",
            "Train Epoch: 1 [55680/60000]\tLoss: 0.226247\n",
            "Train Epoch: 1 [56320/60000]\tLoss: 0.271568\n",
            "Train Epoch: 1 [56960/60000]\tLoss: 0.166541\n",
            "Train Epoch: 1 [57600/60000]\tLoss: 0.400626\n",
            "Train Epoch: 1 [58240/60000]\tLoss: 0.261392\n",
            "Train Epoch: 1 [58880/60000]\tLoss: 0.156842\n",
            "Train Epoch: 1 [59520/60000]\tLoss: 0.383534\n",
            "\n",
            "Test set: Avg. loss: 0.1350, Accuracy: 9586/10000 (96%)\n",
            "\n",
            "Train Epoch: 2 [0/60000]\tLoss: 0.399794\n",
            "Train Epoch: 2 [640/60000]\tLoss: 0.360354\n",
            "Train Epoch: 2 [1280/60000]\tLoss: 0.242761\n",
            "Train Epoch: 2 [1920/60000]\tLoss: 0.324286\n",
            "Train Epoch: 2 [2560/60000]\tLoss: 0.221536\n",
            "Train Epoch: 2 [3200/60000]\tLoss: 0.357096\n",
            "Train Epoch: 2 [3840/60000]\tLoss: 0.149485\n",
            "Train Epoch: 2 [4480/60000]\tLoss: 0.348895\n",
            "Train Epoch: 2 [5120/60000]\tLoss: 0.337369\n",
            "Train Epoch: 2 [5760/60000]\tLoss: 0.422291\n",
            "Train Epoch: 2 [6400/60000]\tLoss: 0.318052\n",
            "Train Epoch: 2 [7040/60000]\tLoss: 0.212038\n",
            "Train Epoch: 2 [7680/60000]\tLoss: 0.217703\n",
            "Train Epoch: 2 [8320/60000]\tLoss: 0.254015\n",
            "Train Epoch: 2 [8960/60000]\tLoss: 0.335070\n",
            "Train Epoch: 2 [9600/60000]\tLoss: 0.279370\n",
            "Train Epoch: 2 [10240/60000]\tLoss: 0.276565\n",
            "Train Epoch: 2 [10880/60000]\tLoss: 0.331723\n",
            "Train Epoch: 2 [11520/60000]\tLoss: 0.109076\n",
            "Train Epoch: 2 [12160/60000]\tLoss: 0.260785\n",
            "Train Epoch: 2 [12800/60000]\tLoss: 0.261050\n",
            "Train Epoch: 2 [13440/60000]\tLoss: 0.333196\n",
            "Train Epoch: 2 [14080/60000]\tLoss: 0.216041\n",
            "Train Epoch: 2 [14720/60000]\tLoss: 0.191423\n",
            "Train Epoch: 2 [15360/60000]\tLoss: 0.198430\n",
            "Train Epoch: 2 [16000/60000]\tLoss: 0.235075\n",
            "Train Epoch: 2 [16640/60000]\tLoss: 0.269524\n",
            "Train Epoch: 2 [17280/60000]\tLoss: 0.344630\n",
            "Train Epoch: 2 [17920/60000]\tLoss: 0.159242\n",
            "Train Epoch: 2 [18560/60000]\tLoss: 0.290832\n",
            "Train Epoch: 2 [19200/60000]\tLoss: 0.268492\n",
            "Train Epoch: 2 [19840/60000]\tLoss: 0.292501\n",
            "Train Epoch: 2 [20480/60000]\tLoss: 0.189259\n",
            "Train Epoch: 2 [21120/60000]\tLoss: 0.416568\n",
            "Train Epoch: 2 [21760/60000]\tLoss: 0.273872\n",
            "Train Epoch: 2 [22400/60000]\tLoss: 0.126933\n",
            "Train Epoch: 2 [23040/60000]\tLoss: 0.277339\n",
            "Train Epoch: 2 [23680/60000]\tLoss: 0.092823\n",
            "Train Epoch: 2 [24320/60000]\tLoss: 0.099075\n",
            "Train Epoch: 2 [24960/60000]\tLoss: 0.364259\n",
            "Train Epoch: 2 [25600/60000]\tLoss: 0.194110\n",
            "Train Epoch: 2 [26240/60000]\tLoss: 0.440077\n",
            "Train Epoch: 2 [26880/60000]\tLoss: 0.194984\n",
            "Train Epoch: 2 [27520/60000]\tLoss: 0.185668\n",
            "Train Epoch: 2 [28160/60000]\tLoss: 0.192736\n",
            "Train Epoch: 2 [28800/60000]\tLoss: 0.216405\n",
            "Train Epoch: 2 [29440/60000]\tLoss: 0.152436\n",
            "Train Epoch: 2 [30080/60000]\tLoss: 0.119662\n",
            "Train Epoch: 2 [30720/60000]\tLoss: 0.243104\n",
            "Train Epoch: 2 [31360/60000]\tLoss: 0.220574\n",
            "Train Epoch: 2 [32000/60000]\tLoss: 0.177575\n",
            "Train Epoch: 2 [32640/60000]\tLoss: 0.073020\n",
            "Train Epoch: 2 [33280/60000]\tLoss: 0.158965\n",
            "Train Epoch: 2 [33920/60000]\tLoss: 0.070593\n",
            "Train Epoch: 2 [34560/60000]\tLoss: 0.053122\n",
            "Train Epoch: 2 [35200/60000]\tLoss: 0.286311\n",
            "Train Epoch: 2 [35840/60000]\tLoss: 0.207990\n",
            "Train Epoch: 2 [36480/60000]\tLoss: 0.328256\n",
            "Train Epoch: 2 [37120/60000]\tLoss: 0.179023\n",
            "Train Epoch: 2 [37760/60000]\tLoss: 0.108191\n",
            "Train Epoch: 2 [38400/60000]\tLoss: 0.207917\n",
            "Train Epoch: 2 [39040/60000]\tLoss: 0.270366\n",
            "Train Epoch: 2 [39680/60000]\tLoss: 0.201737\n",
            "Train Epoch: 2 [40320/60000]\tLoss: 0.207688\n",
            "Train Epoch: 2 [40960/60000]\tLoss: 0.123135\n",
            "Train Epoch: 2 [41600/60000]\tLoss: 0.222467\n",
            "Train Epoch: 2 [42240/60000]\tLoss: 0.166761\n",
            "Train Epoch: 2 [42880/60000]\tLoss: 0.064846\n",
            "Train Epoch: 2 [43520/60000]\tLoss: 0.375660\n",
            "Train Epoch: 2 [44160/60000]\tLoss: 0.214045\n",
            "Train Epoch: 2 [44800/60000]\tLoss: 0.216023\n",
            "Train Epoch: 2 [45440/60000]\tLoss: 0.322778\n",
            "Train Epoch: 2 [46080/60000]\tLoss: 0.070945\n",
            "Train Epoch: 2 [46720/60000]\tLoss: 0.267528\n",
            "Train Epoch: 2 [47360/60000]\tLoss: 0.155192\n",
            "Train Epoch: 2 [48000/60000]\tLoss: 0.275762\n",
            "Train Epoch: 2 [48640/60000]\tLoss: 0.244652\n",
            "Train Epoch: 2 [49280/60000]\tLoss: 0.223201\n",
            "Train Epoch: 2 [49920/60000]\tLoss: 0.117319\n",
            "Train Epoch: 2 [50560/60000]\tLoss: 0.165187\n",
            "Train Epoch: 2 [51200/60000]\tLoss: 0.231050\n",
            "Train Epoch: 2 [51840/60000]\tLoss: 0.160357\n",
            "Train Epoch: 2 [52480/60000]\tLoss: 0.104356\n",
            "Train Epoch: 2 [53120/60000]\tLoss: 0.334194\n",
            "Train Epoch: 2 [53760/60000]\tLoss: 0.121742\n",
            "Train Epoch: 2 [54400/60000]\tLoss: 0.247279\n",
            "Train Epoch: 2 [55040/60000]\tLoss: 0.428125\n",
            "Train Epoch: 2 [55680/60000]\tLoss: 0.327336\n",
            "Train Epoch: 2 [56320/60000]\tLoss: 0.331059\n",
            "Train Epoch: 2 [56960/60000]\tLoss: 0.215155\n",
            "Train Epoch: 2 [57600/60000]\tLoss: 0.189898\n",
            "Train Epoch: 2 [58240/60000]\tLoss: 0.222576\n",
            "Train Epoch: 2 [58880/60000]\tLoss: 0.154078\n",
            "Train Epoch: 2 [59520/60000]\tLoss: 0.169690\n",
            "\n",
            "Test set: Avg. loss: 0.0936, Accuracy: 9702/10000 (97%)\n",
            "\n",
            "Train Epoch: 3 [0/60000]\tLoss: 0.092840\n",
            "Train Epoch: 3 [640/60000]\tLoss: 0.227489\n",
            "Train Epoch: 3 [1280/60000]\tLoss: 0.198898\n",
            "Train Epoch: 3 [1920/60000]\tLoss: 0.224534\n",
            "Train Epoch: 3 [2560/60000]\tLoss: 0.127227\n",
            "Train Epoch: 3 [3200/60000]\tLoss: 0.305112\n",
            "Train Epoch: 3 [3840/60000]\tLoss: 0.103432\n",
            "Train Epoch: 3 [4480/60000]\tLoss: 0.103686\n",
            "Train Epoch: 3 [5120/60000]\tLoss: 0.277810\n",
            "Train Epoch: 3 [5760/60000]\tLoss: 0.078844\n",
            "Train Epoch: 3 [6400/60000]\tLoss: 0.184215\n",
            "Train Epoch: 3 [7040/60000]\tLoss: 0.286753\n",
            "Train Epoch: 3 [7680/60000]\tLoss: 0.102790\n",
            "Train Epoch: 3 [8320/60000]\tLoss: 0.425598\n",
            "Train Epoch: 3 [8960/60000]\tLoss: 0.126036\n",
            "Train Epoch: 3 [9600/60000]\tLoss: 0.101493\n",
            "Train Epoch: 3 [10240/60000]\tLoss: 0.363821\n",
            "Train Epoch: 3 [10880/60000]\tLoss: 0.077155\n",
            "Train Epoch: 3 [11520/60000]\tLoss: 0.234466\n",
            "Train Epoch: 3 [12160/60000]\tLoss: 0.138962\n",
            "Train Epoch: 3 [12800/60000]\tLoss: 0.142105\n",
            "Train Epoch: 3 [13440/60000]\tLoss: 0.154076\n",
            "Train Epoch: 3 [14080/60000]\tLoss: 0.238487\n",
            "Train Epoch: 3 [14720/60000]\tLoss: 0.161981\n",
            "Train Epoch: 3 [15360/60000]\tLoss: 0.172260\n",
            "Train Epoch: 3 [16000/60000]\tLoss: 0.168809\n",
            "Train Epoch: 3 [16640/60000]\tLoss: 0.161634\n",
            "Train Epoch: 3 [17280/60000]\tLoss: 0.112349\n",
            "Train Epoch: 3 [17920/60000]\tLoss: 0.190423\n",
            "Train Epoch: 3 [18560/60000]\tLoss: 0.210777\n",
            "Train Epoch: 3 [19200/60000]\tLoss: 0.072562\n",
            "Train Epoch: 3 [19840/60000]\tLoss: 0.142412\n",
            "Train Epoch: 3 [20480/60000]\tLoss: 0.208365\n",
            "Train Epoch: 3 [21120/60000]\tLoss: 0.196101\n",
            "Train Epoch: 3 [21760/60000]\tLoss: 0.281977\n",
            "Train Epoch: 3 [22400/60000]\tLoss: 0.089427\n",
            "Train Epoch: 3 [23040/60000]\tLoss: 0.239235\n",
            "Train Epoch: 3 [23680/60000]\tLoss: 0.111396\n",
            "Train Epoch: 3 [24320/60000]\tLoss: 0.186082\n",
            "Train Epoch: 3 [24960/60000]\tLoss: 0.085561\n",
            "Train Epoch: 3 [25600/60000]\tLoss: 0.262927\n",
            "Train Epoch: 3 [26240/60000]\tLoss: 0.163861\n",
            "Train Epoch: 3 [26880/60000]\tLoss: 0.245911\n",
            "Train Epoch: 3 [27520/60000]\tLoss: 0.291168\n",
            "Train Epoch: 3 [28160/60000]\tLoss: 0.186596\n",
            "Train Epoch: 3 [28800/60000]\tLoss: 0.355575\n",
            "Train Epoch: 3 [29440/60000]\tLoss: 0.188378\n",
            "Train Epoch: 3 [30080/60000]\tLoss: 0.289576\n",
            "Train Epoch: 3 [30720/60000]\tLoss: 0.202879\n",
            "Train Epoch: 3 [31360/60000]\tLoss: 0.121093\n",
            "Train Epoch: 3 [32000/60000]\tLoss: 0.161128\n",
            "Train Epoch: 3 [32640/60000]\tLoss: 0.120999\n",
            "Train Epoch: 3 [33280/60000]\tLoss: 0.076147\n",
            "Train Epoch: 3 [33920/60000]\tLoss: 0.108046\n",
            "Train Epoch: 3 [34560/60000]\tLoss: 0.242605\n",
            "Train Epoch: 3 [35200/60000]\tLoss: 0.212369\n",
            "Train Epoch: 3 [35840/60000]\tLoss: 0.354194\n",
            "Train Epoch: 3 [36480/60000]\tLoss: 0.172929\n",
            "Train Epoch: 3 [37120/60000]\tLoss: 0.219141\n",
            "Train Epoch: 3 [37760/60000]\tLoss: 0.107630\n",
            "Train Epoch: 3 [38400/60000]\tLoss: 0.199720\n",
            "Train Epoch: 3 [39040/60000]\tLoss: 0.133416\n",
            "Train Epoch: 3 [39680/60000]\tLoss: 0.313267\n",
            "Train Epoch: 3 [40320/60000]\tLoss: 0.129166\n",
            "Train Epoch: 3 [40960/60000]\tLoss: 0.133764\n",
            "Train Epoch: 3 [41600/60000]\tLoss: 0.068998\n",
            "Train Epoch: 3 [42240/60000]\tLoss: 0.255448\n",
            "Train Epoch: 3 [42880/60000]\tLoss: 0.104677\n",
            "Train Epoch: 3 [43520/60000]\tLoss: 0.137473\n",
            "Train Epoch: 3 [44160/60000]\tLoss: 0.032214\n",
            "Train Epoch: 3 [44800/60000]\tLoss: 0.031551\n",
            "Train Epoch: 3 [45440/60000]\tLoss: 0.062974\n",
            "Train Epoch: 3 [46080/60000]\tLoss: 0.176395\n",
            "Train Epoch: 3 [46720/60000]\tLoss: 0.246525\n",
            "Train Epoch: 3 [47360/60000]\tLoss: 0.060213\n",
            "Train Epoch: 3 [48000/60000]\tLoss: 0.160346\n",
            "Train Epoch: 3 [48640/60000]\tLoss: 0.143445\n",
            "Train Epoch: 3 [49280/60000]\tLoss: 0.079828\n",
            "Train Epoch: 3 [49920/60000]\tLoss: 0.316289\n",
            "Train Epoch: 3 [50560/60000]\tLoss: 0.101182\n",
            "Train Epoch: 3 [51200/60000]\tLoss: 0.181627\n",
            "Train Epoch: 3 [51840/60000]\tLoss: 0.169842\n",
            "Train Epoch: 3 [52480/60000]\tLoss: 0.151601\n",
            "Train Epoch: 3 [53120/60000]\tLoss: 0.057365\n",
            "Train Epoch: 3 [53760/60000]\tLoss: 0.057183\n",
            "Train Epoch: 3 [54400/60000]\tLoss: 0.027809\n",
            "Train Epoch: 3 [55040/60000]\tLoss: 0.120436\n",
            "Train Epoch: 3 [55680/60000]\tLoss: 0.128905\n",
            "Train Epoch: 3 [56320/60000]\tLoss: 0.067652\n",
            "Train Epoch: 3 [56960/60000]\tLoss: 0.116334\n",
            "Train Epoch: 3 [57600/60000]\tLoss: 0.225612\n",
            "Train Epoch: 3 [58240/60000]\tLoss: 0.104306\n",
            "Train Epoch: 3 [58880/60000]\tLoss: 0.122270\n",
            "Train Epoch: 3 [59520/60000]\tLoss: 0.327119\n",
            "\n",
            "Test set: Avg. loss: 0.0762, Accuracy: 9756/10000 (98%)\n",
            "\n"
          ]
        }
      ]
    },
    {
      "cell_type": "code",
      "source": [
        "# Run network on data we got before and show predictions\n",
        "output = model(example_data)\n",
        "\n",
        "fig = plt.figure()\n",
        "for i in range(10):\n",
        "  plt.subplot(5,5,i+1)\n",
        "  plt.tight_layout()\n",
        "  plt.imshow(example_data[i][0], cmap='gray', interpolation='none')\n",
        "  plt.title(\"Prediction: {}\".format(\n",
        "    output.data.max(1, keepdim=True)[1][i].item()))\n",
        "  plt.xticks([])\n",
        "  plt.yticks([])\n",
        "plt.show()"
      ],
      "metadata": {
        "id": "o7fRUAy9Se1B",
        "colab": {
          "base_uri": "https://localhost:8080/",
          "height": 207
        },
        "outputId": "52123e48-1ccd-48ff-9dfc-28ff8a4084df"
      },
      "execution_count": 10,
      "outputs": [
        {
          "output_type": "display_data",
          "data": {
            "text/plain": [
              "<Figure size 640x480 with 10 Axes>"
            ],
            "image/png": "[encoded data removed]"
          },
          "metadata": {}
        }
      ]
    }
  ]
}